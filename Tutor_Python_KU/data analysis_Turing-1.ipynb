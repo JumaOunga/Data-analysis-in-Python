{
 "cells": [
  {
   "cell_type": "code",
   "execution_count": 95,
   "metadata": {},
   "outputs": [],
   "source": [
    "import pandas as pd\n",
    "import seaborn as sns\n",
    "import numpy as np\n",
    "import matplotlib.pyplot as plt\n",
    "import numpy as np \n",
    "import warnings\n",
    "warnings.filterwarnings('ignore')\n",
    "import seaborn as sns\n",
    "sns.set()\n",
    "import matplotlib\n",
    "import matplotlib.ticker\n",
    "%matplotlib inline\n",
    "df_cardio_base = pd.read_csv('cardio_base.csv')\n",
    "df_cardio_alco = pd.read_csv('cardio_alco.csv')\n",
    "df_covid_data = pd.read_csv('covid_data.csv')"
   ]
  },
  {
   "cell_type": "code",
   "execution_count": 96,
   "metadata": {},
   "outputs": [],
   "source": [
    "df_cardio_alco = df_cardio_alco['id;alco'].str.split(';', expand=True)"
   ]
  },
  {
   "cell_type": "code",
   "execution_count": 97,
   "metadata": {},
   "outputs": [],
   "source": [
    "df_cardio_alco.rename(columns = {0:'id', 1:'alco'}, inplace = True)\n"
   ]
  },
  {
   "cell_type": "code",
   "execution_count": null,
   "metadata": {},
   "outputs": [],
   "source": []
  },
  {
   "cell_type": "code",
   "execution_count": 98,
   "metadata": {},
   "outputs": [],
   "source": [
    "df_cardio_alco['id']= df_cardio_alco['id'].astype(int)"
   ]
  },
  {
   "cell_type": "code",
   "execution_count": 99,
   "metadata": {},
   "outputs": [],
   "source": [
    "train_data = pd.merge(df_cardio_base ,df_cardio_alco, on = 'id')"
   ]
  },
  {
   "cell_type": "code",
   "execution_count": 100,
   "metadata": {},
   "outputs": [],
   "source": [
    "df_cardio_base1= pd.read_csv('cardio_base.csv')"
   ]
  },
  {
   "cell_type": "code",
   "execution_count": 101,
   "metadata": {},
   "outputs": [],
   "source": [
    "result1 = pd.merge(df_cardio_base1, df_cardio_alco, on=\"id\", how=\"outer\", validate=\"one_to_one\")"
   ]
  },
  {
   "cell_type": "code",
   "execution_count": 102,
   "metadata": {},
   "outputs": [],
   "source": [
    "test_data= result1[result1['alco'].isnull()]"
   ]
  },
  {
   "cell_type": "code",
   "execution_count": 103,
   "metadata": {},
   "outputs": [],
   "source": [
    "test_data.drop(\"alco\", axis=1, inplace=True) "
   ]
  },
  {
   "cell_type": "code",
   "execution_count": 104,
   "metadata": {},
   "outputs": [
    {
     "data": {
      "text/plain": [
       "<AxesSubplot:xlabel='years', ylabel='count'>"
      ]
     },
     "execution_count": 104,
     "metadata": {},
     "output_type": "execute_result"
    },
    {
     "data": {
      "image/png": "[encoded data removed]",
      "text/plain": [
       "<Figure size 792x576 with 1 Axes>"
      ]
     },
     "metadata": {
      "needs_background": "light"
     },
     "output_type": "display_data"
    }
   ],
   "source": [
    "from matplotlib import rcParams\n",
    "rcParams['figure.figsize'] = 11, 8\n",
    "train_data['years'] = (train_data['age'] / 365).round().astype('int')\n",
    "sns.countplot(x='years', hue='alco', data = train_data, palette=\"Set2\")"
   ]
  },
  {
   "cell_type": "code",
   "execution_count": 105,
   "metadata": {},
   "outputs": [
    {
     "data": {
      "text/html": [
       "<div>\n",
       "<style scoped>\n",
       "    .dataframe tbody tr th:only-of-type {\n",
       "        vertical-align: middle;\n",
       "    }\n",
       "\n",
       "    .dataframe tbody tr th {\n",
       "        vertical-align: top;\n",
       "    }\n",
       "\n",
       "    .dataframe thead th {\n",
       "        text-align: right;\n",
       "    }\n",
       "</style>\n",
       "<table border=\"1\" class=\"dataframe\">\n",
       "  <thead>\n",
       "    <tr style=\"text-align: right;\">\n",
       "      <th>gender</th>\n",
       "      <th>1</th>\n",
       "      <th>2</th>\n",
       "    </tr>\n",
       "    <tr>\n",
       "      <th>alco</th>\n",
       "      <th></th>\n",
       "      <th></th>\n",
       "    </tr>\n",
       "  </thead>\n",
       "  <tbody>\n",
       "    <tr>\n",
       "      <th>0</th>\n",
       "      <td>0.632796</td>\n",
       "      <td>0.313762</td>\n",
       "    </tr>\n",
       "    <tr>\n",
       "      <th>1</th>\n",
       "      <td>0.016537</td>\n",
       "      <td>0.036905</td>\n",
       "    </tr>\n",
       "  </tbody>\n",
       "</table>\n",
       "</div>"
      ],
      "text/plain": [
       "gender         1         2\n",
       "alco                      \n",
       "0       0.632796  0.313762\n",
       "1       0.016537  0.036905"
      ]
     },
     "execution_count": 105,
     "metadata": {},
     "output_type": "execute_result"
    }
   ],
   "source": [
    "pd.crosstab(train_data['alco'],train_data['gender'],normalize=True)"
   ]
  },
  {
   "cell_type": "code",
   "execution_count": 106,
   "metadata": {},
   "outputs": [
    {
     "data": {
      "text/plain": [
       "gender\n",
       "1    161.355612\n",
       "2    169.947895\n",
       "Name: height, dtype: float64"
      ]
     },
     "execution_count": 106,
     "metadata": {},
     "output_type": "execute_result"
    }
   ],
   "source": [
    "df_cardio_base.groupby('gender')['height'].mean()"
   ]
  },
  {
   "cell_type": "code",
   "execution_count": 107,
   "metadata": {},
   "outputs": [
    {
     "data": {
      "image/png": "[encoded data removed]",
      "text/plain": [
       "<Figure size 792x576 with 1 Axes>"
      ]
     },
     "metadata": {
      "needs_background": "light"
     },
     "output_type": "display_data"
    }
   ],
   "source": [
    "# Plot Histogram\n",
    "\n",
    "import matplotlib.pyplot as plt\n",
    "\n",
    "fig, ax = plt.subplots()\n",
    "\n",
    "ax.hist(df_cardio_base['age'],bins=15, cumulative=False)\n",
    "\n",
    "ax.set_xlabel('Age (Days)')\n",
    "\n",
    "ax.set_ylabel('Frequency')\n",
    "\n",
    "plt.rcParams[\"figure.figsize\"] = (20, 10)\n",
    "\n",
    "plt.show()"
   ]
  },
  {
   "cell_type": "code",
   "execution_count": 108,
   "metadata": {},
   "outputs": [
    {
     "name": "stdout",
     "output_type": "stream",
     "text": [
      "<class 'pandas.core.frame.DataFrame'>\n",
      "RangeIndex: 70000 entries, 0 to 69999\n",
      "Data columns (total 9 columns):\n",
      " #   Column       Non-Null Count  Dtype  \n",
      "---  ------       --------------  -----  \n",
      " 0   id           70000 non-null  int64  \n",
      " 1   age          70000 non-null  int64  \n",
      " 2   gender       70000 non-null  int64  \n",
      " 3   height       70000 non-null  int64  \n",
      " 4   weight       70000 non-null  float64\n",
      " 5   ap_hi        70000 non-null  int64  \n",
      " 6   ap_lo        70000 non-null  int64  \n",
      " 7   cholesterol  70000 non-null  int64  \n",
      " 8   smoke        70000 non-null  int64  \n",
      "dtypes: float64(1), int64(8)\n",
      "memory usage: 4.8 MB\n"
     ]
    }
   ],
   "source": [
    "df_cardio_base.info()"
   ]
  },
  {
   "cell_type": "code",
   "execution_count": 109,
   "metadata": {},
   "outputs": [
    {
     "data": {
      "text/plain": [
       "<matplotlib.collections.PathCollection at 0x1a812738f10>"
      ]
     },
     "execution_count": 109,
     "metadata": {},
     "output_type": "execute_result"
    },
    {
     "data": {
      "image/png": "[encoded data removed]",
      "text/plain": [
       "<Figure size 1440x720 with 1 Axes>"
      ]
     },
     "metadata": {
      "needs_background": "light"
     },
     "output_type": "display_data"
    }
   ],
   "source": [
    "\n",
    "plt.scatter( df_cardio_base.weight, df_cardio_base.age)"
   ]
  },
  {
   "cell_type": "code",
   "execution_count": 110,
   "metadata": {},
   "outputs": [
    {
     "data": {
      "text/plain": [
       "1.3668714285714285"
      ]
     },
     "execution_count": 110,
     "metadata": {},
     "output_type": "execute_result"
    }
   ],
   "source": [
    "\n",
    "df_cardio_base[df_cardio_base.age>50].cholesterol.mean()"
   ]
  },
  {
   "cell_type": "code",
   "execution_count": 111,
   "metadata": {},
   "outputs": [
    {
     "data": {
      "text/plain": [
       "count    70000.000000\n",
       "mean         1.366871\n",
       "std          0.680250\n",
       "min          1.000000\n",
       "25%          1.000000\n",
       "50%          1.000000\n",
       "75%          2.000000\n",
       "max          3.000000\n",
       "Name: cholesterol, dtype: float64"
      ]
     },
     "execution_count": 111,
     "metadata": {},
     "output_type": "execute_result"
    }
   ],
   "source": [
    "df_cardio_base.cholesterol.describe()"
   ]
  },
  {
   "cell_type": "code",
   "execution_count": 112,
   "metadata": {},
   "outputs": [
    {
     "data": {
      "text/plain": [
       "gender  smoke\n",
       "1       0        0.982144\n",
       "        1        0.017856\n",
       "2       0        0.781120\n",
       "        1        0.218880\n",
       "Name: smoke, dtype: float64"
      ]
     },
     "execution_count": 112,
     "metadata": {},
     "output_type": "execute_result"
    }
   ],
   "source": [
    "df_cardio_base.groupby('gender').smoke.value_counts(normalize=True)"
   ]
  },
  {
   "cell_type": "code",
   "execution_count": 113,
   "metadata": {},
   "outputs": [
    {
     "data": {
      "text/plain": [
       "2    0.868212\n",
       "1    0.131788\n",
       "Name: gender, dtype: float64"
      ]
     },
     "execution_count": 113,
     "metadata": {},
     "output_type": "execute_result"
    }
   ],
   "source": [
    "df_cardio_base[df_cardio_base.smoke==1].gender.value_counts(normalize=True)"
   ]
  },
  {
   "cell_type": "code",
   "execution_count": 114,
   "metadata": {},
   "outputs": [],
   "source": [
    "df_cardio_base.shape\n",
    "df=df_cardio_base.head(700)"
   ]
  },
  {
   "cell_type": "code",
   "execution_count": 115,
   "metadata": {},
   "outputs": [
    {
     "data": {
      "text/plain": [
       "count    700.00000\n",
       "mean     164.05000\n",
       "std        8.67348\n",
       "min       76.00000\n",
       "25%      158.00000\n",
       "50%      164.00000\n",
       "75%      170.00000\n",
       "max      188.00000\n",
       "Name: height, dtype: float64"
      ]
     },
     "execution_count": 115,
     "metadata": {},
     "output_type": "execute_result"
    }
   ],
   "source": [
    "df.height.describe()"
   ]
  },
  {
   "cell_type": "code",
   "execution_count": 116,
   "metadata": {},
   "outputs": [
    {
     "data": {
      "text/plain": [
       "112"
      ]
     },
     "execution_count": 116,
     "metadata": {},
     "output_type": "execute_result"
    }
   ],
   "source": [
    "188-76"
   ]
  },
  {
   "cell_type": "code",
   "execution_count": 117,
   "metadata": {},
   "outputs": [],
   "source": [
    "df_cardio_base.shape\n",
    "df1=df_cardio_base.tail(700)"
   ]
  },
  {
   "cell_type": "code",
   "execution_count": 118,
   "metadata": {},
   "outputs": [
    {
     "data": {
      "text/plain": [
       "(56903, 11)"
      ]
     },
     "execution_count": 118,
     "metadata": {},
     "output_type": "execute_result"
    }
   ],
   "source": [
    "train_data.shape"
   ]
  },
  {
   "cell_type": "code",
   "execution_count": 119,
   "metadata": {},
   "outputs": [],
   "source": [
    "train_data.alco=train_data.alco.astype('int64')"
   ]
  },
  {
   "cell_type": "code",
   "execution_count": 120,
   "metadata": {},
   "outputs": [
    {
     "data": {
      "text/plain": [
       "dtype('int64')"
      ]
     },
     "execution_count": 120,
     "metadata": {},
     "output_type": "execute_result"
    }
   ],
   "source": [
    "train_data.alco.dtype"
   ]
  },
  {
   "cell_type": "code",
   "execution_count": 121,
   "metadata": {},
   "outputs": [
    {
     "data": {
      "text/plain": [
       "0.05344182204804668"
      ]
     },
     "execution_count": 121,
     "metadata": {},
     "output_type": "execute_result"
    }
   ],
   "source": [
    "#percentage of people with alcohol\n",
    "df_alco=train_data[train_data.alco==1]\n",
    "df_alco[df_alco.age>50].shape[0]/56903"
   ]
  },
  {
   "cell_type": "code",
   "execution_count": 122,
   "metadata": {},
   "outputs": [
    {
     "data": {
      "text/html": [
       "<div>\n",
       "<style scoped>\n",
       "    .dataframe tbody tr th:only-of-type {\n",
       "        vertical-align: middle;\n",
       "    }\n",
       "\n",
       "    .dataframe tbody tr th {\n",
       "        vertical-align: top;\n",
       "    }\n",
       "\n",
       "    .dataframe thead th {\n",
       "        text-align: right;\n",
       "    }\n",
       "</style>\n",
       "<table border=\"1\" class=\"dataframe\">\n",
       "  <thead>\n",
       "    <tr style=\"text-align: right;\">\n",
       "      <th></th>\n",
       "      <th>id</th>\n",
       "      <th>age</th>\n",
       "      <th>gender</th>\n",
       "      <th>height</th>\n",
       "      <th>weight</th>\n",
       "      <th>ap_hi</th>\n",
       "      <th>ap_lo</th>\n",
       "      <th>cholesterol</th>\n",
       "      <th>smoke</th>\n",
       "    </tr>\n",
       "  </thead>\n",
       "  <tbody>\n",
       "    <tr>\n",
       "      <th>id</th>\n",
       "      <td>1.000000</td>\n",
       "      <td>0.003457</td>\n",
       "      <td>0.003502</td>\n",
       "      <td>-0.003038</td>\n",
       "      <td>-0.001830</td>\n",
       "      <td>0.003356</td>\n",
       "      <td>-0.002529</td>\n",
       "      <td>0.006106</td>\n",
       "      <td>-0.003699</td>\n",
       "    </tr>\n",
       "    <tr>\n",
       "      <th>age</th>\n",
       "      <td>0.003457</td>\n",
       "      <td>1.000000</td>\n",
       "      <td>-0.022811</td>\n",
       "      <td>-0.081515</td>\n",
       "      <td>0.053684</td>\n",
       "      <td>0.020764</td>\n",
       "      <td>0.017647</td>\n",
       "      <td>0.154424</td>\n",
       "      <td>-0.047633</td>\n",
       "    </tr>\n",
       "    <tr>\n",
       "      <th>gender</th>\n",
       "      <td>0.003502</td>\n",
       "      <td>-0.022811</td>\n",
       "      <td>1.000000</td>\n",
       "      <td>0.499033</td>\n",
       "      <td>0.155406</td>\n",
       "      <td>0.006005</td>\n",
       "      <td>0.015254</td>\n",
       "      <td>-0.035821</td>\n",
       "      <td>0.338135</td>\n",
       "    </tr>\n",
       "    <tr>\n",
       "      <th>height</th>\n",
       "      <td>-0.003038</td>\n",
       "      <td>-0.081515</td>\n",
       "      <td>0.499033</td>\n",
       "      <td>1.000000</td>\n",
       "      <td>0.290968</td>\n",
       "      <td>0.005488</td>\n",
       "      <td>0.006150</td>\n",
       "      <td>-0.050226</td>\n",
       "      <td>0.187989</td>\n",
       "    </tr>\n",
       "    <tr>\n",
       "      <th>weight</th>\n",
       "      <td>-0.001830</td>\n",
       "      <td>0.053684</td>\n",
       "      <td>0.155406</td>\n",
       "      <td>0.290968</td>\n",
       "      <td>1.000000</td>\n",
       "      <td>0.030702</td>\n",
       "      <td>0.043710</td>\n",
       "      <td>0.141768</td>\n",
       "      <td>0.067780</td>\n",
       "    </tr>\n",
       "    <tr>\n",
       "      <th>ap_hi</th>\n",
       "      <td>0.003356</td>\n",
       "      <td>0.020764</td>\n",
       "      <td>0.006005</td>\n",
       "      <td>0.005488</td>\n",
       "      <td>0.030702</td>\n",
       "      <td>1.000000</td>\n",
       "      <td>0.016086</td>\n",
       "      <td>0.023778</td>\n",
       "      <td>-0.000922</td>\n",
       "    </tr>\n",
       "    <tr>\n",
       "      <th>ap_lo</th>\n",
       "      <td>-0.002529</td>\n",
       "      <td>0.017647</td>\n",
       "      <td>0.015254</td>\n",
       "      <td>0.006150</td>\n",
       "      <td>0.043710</td>\n",
       "      <td>0.016086</td>\n",
       "      <td>1.000000</td>\n",
       "      <td>0.024019</td>\n",
       "      <td>0.005186</td>\n",
       "    </tr>\n",
       "    <tr>\n",
       "      <th>cholesterol</th>\n",
       "      <td>0.006106</td>\n",
       "      <td>0.154424</td>\n",
       "      <td>-0.035821</td>\n",
       "      <td>-0.050226</td>\n",
       "      <td>0.141768</td>\n",
       "      <td>0.023778</td>\n",
       "      <td>0.024019</td>\n",
       "      <td>1.000000</td>\n",
       "      <td>0.010354</td>\n",
       "    </tr>\n",
       "    <tr>\n",
       "      <th>smoke</th>\n",
       "      <td>-0.003699</td>\n",
       "      <td>-0.047633</td>\n",
       "      <td>0.338135</td>\n",
       "      <td>0.187989</td>\n",
       "      <td>0.067780</td>\n",
       "      <td>-0.000922</td>\n",
       "      <td>0.005186</td>\n",
       "      <td>0.010354</td>\n",
       "      <td>1.000000</td>\n",
       "    </tr>\n",
       "  </tbody>\n",
       "</table>\n",
       "</div>"
      ],
      "text/plain": [
       "                   id       age    gender    height    weight     ap_hi  \\\n",
       "id           1.000000  0.003457  0.003502 -0.003038 -0.001830  0.003356   \n",
       "age          0.003457  1.000000 -0.022811 -0.081515  0.053684  0.020764   \n",
       "gender       0.003502 -0.022811  1.000000  0.499033  0.155406  0.006005   \n",
       "height      -0.003038 -0.081515  0.499033  1.000000  0.290968  0.005488   \n",
       "weight      -0.001830  0.053684  0.155406  0.290968  1.000000  0.030702   \n",
       "ap_hi        0.003356  0.020764  0.006005  0.005488  0.030702  1.000000   \n",
       "ap_lo       -0.002529  0.017647  0.015254  0.006150  0.043710  0.016086   \n",
       "cholesterol  0.006106  0.154424 -0.035821 -0.050226  0.141768  0.023778   \n",
       "smoke       -0.003699 -0.047633  0.338135  0.187989  0.067780 -0.000922   \n",
       "\n",
       "                ap_lo  cholesterol     smoke  \n",
       "id          -0.002529     0.006106 -0.003699  \n",
       "age          0.017647     0.154424 -0.047633  \n",
       "gender       0.015254    -0.035821  0.338135  \n",
       "height       0.006150    -0.050226  0.187989  \n",
       "weight       0.043710     0.141768  0.067780  \n",
       "ap_hi        0.016086     0.023778 -0.000922  \n",
       "ap_lo        1.000000     0.024019  0.005186  \n",
       "cholesterol  0.024019     1.000000  0.010354  \n",
       "smoke        0.005186     0.010354  1.000000  "
      ]
     },
     "execution_count": 122,
     "metadata": {},
     "output_type": "execute_result"
    }
   ],
   "source": [
    "\n",
    "df_cardio_base.corr()"
   ]
  },
  {
   "cell_type": "code",
   "execution_count": 123,
   "metadata": {},
   "outputs": [
    {
     "data": {
      "text/html": [
       "<div>\n",
       "<style scoped>\n",
       "    .dataframe tbody tr th:only-of-type {\n",
       "        vertical-align: middle;\n",
       "    }\n",
       "\n",
       "    .dataframe tbody tr th {\n",
       "        vertical-align: top;\n",
       "    }\n",
       "\n",
       "    .dataframe thead th {\n",
       "        text-align: right;\n",
       "    }\n",
       "</style>\n",
       "<table border=\"1\" class=\"dataframe\">\n",
       "  <thead>\n",
       "    <tr style=\"text-align: right;\">\n",
       "      <th></th>\n",
       "      <th>id</th>\n",
       "      <th>age</th>\n",
       "      <th>gender</th>\n",
       "      <th>height</th>\n",
       "      <th>weight</th>\n",
       "      <th>ap_hi</th>\n",
       "      <th>ap_lo</th>\n",
       "      <th>cholesterol</th>\n",
       "      <th>smoke</th>\n",
       "    </tr>\n",
       "  </thead>\n",
       "  <tbody>\n",
       "    <tr>\n",
       "      <th>count</th>\n",
       "      <td>70000.000000</td>\n",
       "      <td>70000.000000</td>\n",
       "      <td>70000.000000</td>\n",
       "      <td>70000.000000</td>\n",
       "      <td>70000.000000</td>\n",
       "      <td>70000.000000</td>\n",
       "      <td>70000.000000</td>\n",
       "      <td>70000.000000</td>\n",
       "      <td>70000.000000</td>\n",
       "    </tr>\n",
       "    <tr>\n",
       "      <th>mean</th>\n",
       "      <td>49972.419900</td>\n",
       "      <td>19468.865814</td>\n",
       "      <td>1.349571</td>\n",
       "      <td>164.359229</td>\n",
       "      <td>74.205690</td>\n",
       "      <td>128.817286</td>\n",
       "      <td>96.630414</td>\n",
       "      <td>1.366871</td>\n",
       "      <td>0.088129</td>\n",
       "    </tr>\n",
       "    <tr>\n",
       "      <th>std</th>\n",
       "      <td>28851.302323</td>\n",
       "      <td>2467.251667</td>\n",
       "      <td>0.476838</td>\n",
       "      <td>8.210126</td>\n",
       "      <td>14.395757</td>\n",
       "      <td>154.011419</td>\n",
       "      <td>188.472530</td>\n",
       "      <td>0.680250</td>\n",
       "      <td>0.283484</td>\n",
       "    </tr>\n",
       "    <tr>\n",
       "      <th>min</th>\n",
       "      <td>0.000000</td>\n",
       "      <td>10798.000000</td>\n",
       "      <td>1.000000</td>\n",
       "      <td>55.000000</td>\n",
       "      <td>10.000000</td>\n",
       "      <td>-150.000000</td>\n",
       "      <td>-70.000000</td>\n",
       "      <td>1.000000</td>\n",
       "      <td>0.000000</td>\n",
       "    </tr>\n",
       "    <tr>\n",
       "      <th>25%</th>\n",
       "      <td>25006.750000</td>\n",
       "      <td>17664.000000</td>\n",
       "      <td>1.000000</td>\n",
       "      <td>159.000000</td>\n",
       "      <td>65.000000</td>\n",
       "      <td>120.000000</td>\n",
       "      <td>80.000000</td>\n",
       "      <td>1.000000</td>\n",
       "      <td>0.000000</td>\n",
       "    </tr>\n",
       "    <tr>\n",
       "      <th>50%</th>\n",
       "      <td>50001.500000</td>\n",
       "      <td>19703.000000</td>\n",
       "      <td>1.000000</td>\n",
       "      <td>165.000000</td>\n",
       "      <td>72.000000</td>\n",
       "      <td>120.000000</td>\n",
       "      <td>80.000000</td>\n",
       "      <td>1.000000</td>\n",
       "      <td>0.000000</td>\n",
       "    </tr>\n",
       "    <tr>\n",
       "      <th>75%</th>\n",
       "      <td>74889.250000</td>\n",
       "      <td>21327.000000</td>\n",
       "      <td>2.000000</td>\n",
       "      <td>170.000000</td>\n",
       "      <td>82.000000</td>\n",
       "      <td>140.000000</td>\n",
       "      <td>90.000000</td>\n",
       "      <td>2.000000</td>\n",
       "      <td>0.000000</td>\n",
       "    </tr>\n",
       "    <tr>\n",
       "      <th>max</th>\n",
       "      <td>99999.000000</td>\n",
       "      <td>23713.000000</td>\n",
       "      <td>2.000000</td>\n",
       "      <td>250.000000</td>\n",
       "      <td>200.000000</td>\n",
       "      <td>16020.000000</td>\n",
       "      <td>11000.000000</td>\n",
       "      <td>3.000000</td>\n",
       "      <td>1.000000</td>\n",
       "    </tr>\n",
       "  </tbody>\n",
       "</table>\n",
       "</div>"
      ],
      "text/plain": [
       "                 id           age        gender        height        weight  \\\n",
       "count  70000.000000  70000.000000  70000.000000  70000.000000  70000.000000   \n",
       "mean   49972.419900  19468.865814      1.349571    164.359229     74.205690   \n",
       "std    28851.302323   2467.251667      0.476838      8.210126     14.395757   \n",
       "min        0.000000  10798.000000      1.000000     55.000000     10.000000   \n",
       "25%    25006.750000  17664.000000      1.000000    159.000000     65.000000   \n",
       "50%    50001.500000  19703.000000      1.000000    165.000000     72.000000   \n",
       "75%    74889.250000  21327.000000      2.000000    170.000000     82.000000   \n",
       "max    99999.000000  23713.000000      2.000000    250.000000    200.000000   \n",
       "\n",
       "              ap_hi         ap_lo   cholesterol         smoke  \n",
       "count  70000.000000  70000.000000  70000.000000  70000.000000  \n",
       "mean     128.817286     96.630414      1.366871      0.088129  \n",
       "std      154.011419    188.472530      0.680250      0.283484  \n",
       "min     -150.000000    -70.000000      1.000000      0.000000  \n",
       "25%      120.000000     80.000000      1.000000      0.000000  \n",
       "50%      120.000000     80.000000      1.000000      0.000000  \n",
       "75%      140.000000     90.000000      2.000000      0.000000  \n",
       "max    16020.000000  11000.000000      3.000000      1.000000  "
      ]
     },
     "execution_count": 123,
     "metadata": {},
     "output_type": "execute_result"
    }
   ],
   "source": [
    "df_cardio_base.describe()"
   ]
  },
  {
   "cell_type": "code",
   "execution_count": 124,
   "metadata": {},
   "outputs": [
    {
     "data": {
      "text/plain": [
       "count    56903.000000\n",
       "mean         1.367872\n",
       "std          0.680889\n",
       "min          1.000000\n",
       "25%          1.000000\n",
       "50%          1.000000\n",
       "75%          2.000000\n",
       "max          3.000000\n",
       "Name: cholesterol, dtype: float64"
      ]
     },
     "execution_count": 124,
     "metadata": {},
     "output_type": "execute_result"
    }
   ],
   "source": [
    "train_data.cholesterol.describe()"
   ]
  },
  {
   "cell_type": "code",
   "execution_count": 125,
   "metadata": {},
   "outputs": [
    {
     "data": {
      "text/plain": [
       "alco  cholesterol\n",
       "0     1              40506\n",
       "      2               7201\n",
       "      3               6155\n",
       "1     1               2038\n",
       "      2                584\n",
       "      3                419\n",
       "Name: cholesterol, dtype: int64"
      ]
     },
     "execution_count": 125,
     "metadata": {},
     "output_type": "execute_result"
    }
   ],
   "source": [
    "train_data.groupby('alco').cholesterol.value_counts()"
   ]
  },
  {
   "cell_type": "code",
   "execution_count": 126,
   "metadata": {},
   "outputs": [
    {
     "data": {
      "text/plain": [
       "alco\n",
       "0    73.925549\n",
       "1    78.377738\n",
       "Name: weight, dtype: float64"
      ]
     },
     "execution_count": 126,
     "metadata": {},
     "output_type": "execute_result"
    }
   ],
   "source": [
    "train_data.groupby('alco').weight.mean()"
   ]
  },
  {
   "cell_type": "code",
   "execution_count": 127,
   "metadata": {},
   "outputs": [
    {
     "data": {
      "text/plain": [
       "alco\n",
       "0     96.201552\n",
       "1    106.508057\n",
       "Name: ap_lo, dtype: float64"
      ]
     },
     "execution_count": 127,
     "metadata": {},
     "output_type": "execute_result"
    }
   ],
   "source": [
    "train_data.groupby('alco').ap_lo.mean()"
   ]
  },
  {
   "cell_type": "code",
   "execution_count": 128,
   "metadata": {},
   "outputs": [
    {
     "data": {
      "text/plain": [
       "alco\n",
       "0    128.945917\n",
       "1    130.002960\n",
       "Name: ap_hi, dtype: float64"
      ]
     },
     "execution_count": 128,
     "metadata": {},
     "output_type": "execute_result"
    }
   ],
   "source": [
    "train_data.groupby('alco').ap_hi.mean()"
   ]
  },
  {
   "cell_type": "code",
   "execution_count": 129,
   "metadata": {},
   "outputs": [
    {
     "name": "stdout",
     "output_type": "stream",
     "text": [
      "<class 'pandas.core.frame.DataFrame'>\n",
      "RangeIndex: 23082 entries, 0 to 23081\n",
      "Data columns (total 8 columns):\n",
      " #   Column                      Non-Null Count  Dtype  \n",
      "---  ------                      --------------  -----  \n",
      " 0   location                    23082 non-null  object \n",
      " 1   date                        23082 non-null  object \n",
      " 2   new_cases                   23082 non-null  int64  \n",
      " 3   new_deaths                  23082 non-null  int64  \n",
      " 4   population                  23018 non-null  float64\n",
      " 5   aged_65_older_percent       20643 non-null  float64\n",
      " 6   gdp_per_capita              20711 non-null  float64\n",
      " 7   hospital_beds_per_thousand  19144 non-null  float64\n",
      "dtypes: float64(4), int64(2), object(2)\n",
      "memory usage: 1.4+ MB\n"
     ]
    }
   ],
   "source": [
    "df_covid_data.info()"
   ]
  },
  {
   "cell_type": "code",
   "execution_count": 130,
   "metadata": {},
   "outputs": [],
   "source": [
    "from datetime import date\n",
    "df_covid_data.date=df_covid_data.date.astype(\"datetime64\")"
   ]
  },
  {
   "cell_type": "code",
   "execution_count": 131,
   "metadata": {},
   "outputs": [],
   "source": [
    "df_IG=df_covid_data[(df_covid_data.location=='Italy') | (df_covid_data.location=='Germany')]"
   ]
  },
  {
   "cell_type": "code",
   "execution_count": null,
   "metadata": {},
   "outputs": [],
   "source": []
  },
  {
   "cell_type": "code",
   "execution_count": 132,
   "metadata": {},
   "outputs": [
    {
     "data": {
      "text/plain": [
       "[<matplotlib.lines.Line2D at 0x1a8179a0e80>]"
      ]
     },
     "execution_count": 132,
     "metadata": {},
     "output_type": "execute_result"
    },
    {
     "data": {
      "image/png": "[encoded data removed]",
      "text/plain": [
       "<Figure size 1440x720 with 1 Axes>"
      ]
     },
     "metadata": {
      "needs_background": "light"
     },
     "output_type": "display_data"
    }
   ],
   "source": [
    "plt.plot(df_IG.date, df_IG.new_cases)"
   ]
  },
  {
   "cell_type": "code",
   "execution_count": 133,
   "metadata": {},
   "outputs": [
    {
     "data": {
      "text/plain": [
       "<AxesSubplot:xlabel='date', ylabel='new_cases'>"
      ]
     },
     "execution_count": 133,
     "metadata": {},
     "output_type": "execute_result"
    },
    {
     "data": {
      "image/png": "[encoded data removed]",
      "text/plain": [
       "<Figure size 1440x720 with 1 Axes>"
      ]
     },
     "metadata": {
      "needs_background": "light"
     },
     "output_type": "display_data"
    }
   ],
   "source": [
    "sns.lineplot(df_IG.date, df_IG.new_cases, hue_norm=None, legend='auto')"
   ]
  },
  {
   "cell_type": "code",
   "execution_count": 134,
   "metadata": {},
   "outputs": [
    {
     "data": {
      "text/html": [
       "<div>\n",
       "<style scoped>\n",
       "    .dataframe tbody tr th:only-of-type {\n",
       "        vertical-align: middle;\n",
       "    }\n",
       "\n",
       "    .dataframe tbody tr th {\n",
       "        vertical-align: top;\n",
       "    }\n",
       "\n",
       "    .dataframe thead th {\n",
       "        text-align: right;\n",
       "    }\n",
       "</style>\n",
       "<table border=\"1\" class=\"dataframe\">\n",
       "  <thead>\n",
       "    <tr style=\"text-align: right;\">\n",
       "      <th></th>\n",
       "      <th>location</th>\n",
       "      <th>date</th>\n",
       "      <th>new_cases</th>\n",
       "      <th>new_deaths</th>\n",
       "      <th>population</th>\n",
       "      <th>aged_65_older_percent</th>\n",
       "      <th>gdp_per_capita</th>\n",
       "      <th>hospital_beds_per_thousand</th>\n",
       "    </tr>\n",
       "  </thead>\n",
       "  <tbody>\n",
       "    <tr>\n",
       "      <th>7914</th>\n",
       "      <td>Germany</td>\n",
       "      <td>2019-12-31</td>\n",
       "      <td>0</td>\n",
       "      <td>0</td>\n",
       "      <td>83783945.0</td>\n",
       "      <td>21.453</td>\n",
       "      <td>45229.245</td>\n",
       "      <td>8.00</td>\n",
       "    </tr>\n",
       "    <tr>\n",
       "      <th>10688</th>\n",
       "      <td>Italy</td>\n",
       "      <td>2019-12-31</td>\n",
       "      <td>0</td>\n",
       "      <td>0</td>\n",
       "      <td>60461828.0</td>\n",
       "      <td>23.021</td>\n",
       "      <td>35220.084</td>\n",
       "      <td>3.18</td>\n",
       "    </tr>\n",
       "    <tr>\n",
       "      <th>7915</th>\n",
       "      <td>Germany</td>\n",
       "      <td>2020-01-01</td>\n",
       "      <td>0</td>\n",
       "      <td>0</td>\n",
       "      <td>83783945.0</td>\n",
       "      <td>21.453</td>\n",
       "      <td>45229.245</td>\n",
       "      <td>8.00</td>\n",
       "    </tr>\n",
       "    <tr>\n",
       "      <th>10689</th>\n",
       "      <td>Italy</td>\n",
       "      <td>2020-01-01</td>\n",
       "      <td>0</td>\n",
       "      <td>0</td>\n",
       "      <td>60461828.0</td>\n",
       "      <td>23.021</td>\n",
       "      <td>35220.084</td>\n",
       "      <td>3.18</td>\n",
       "    </tr>\n",
       "    <tr>\n",
       "      <th>7916</th>\n",
       "      <td>Germany</td>\n",
       "      <td>2020-01-02</td>\n",
       "      <td>0</td>\n",
       "      <td>0</td>\n",
       "      <td>83783945.0</td>\n",
       "      <td>21.453</td>\n",
       "      <td>45229.245</td>\n",
       "      <td>8.00</td>\n",
       "    </tr>\n",
       "    <tr>\n",
       "      <th>...</th>\n",
       "      <td>...</td>\n",
       "      <td>...</td>\n",
       "      <td>...</td>\n",
       "      <td>...</td>\n",
       "      <td>...</td>\n",
       "      <td>...</td>\n",
       "      <td>...</td>\n",
       "      <td>...</td>\n",
       "    </tr>\n",
       "    <tr>\n",
       "      <th>8074</th>\n",
       "      <td>Germany</td>\n",
       "      <td>2020-06-08</td>\n",
       "      <td>214</td>\n",
       "      <td>6</td>\n",
       "      <td>83783945.0</td>\n",
       "      <td>21.453</td>\n",
       "      <td>45229.245</td>\n",
       "      <td>8.00</td>\n",
       "    </tr>\n",
       "    <tr>\n",
       "      <th>10849</th>\n",
       "      <td>Italy</td>\n",
       "      <td>2020-06-09</td>\n",
       "      <td>280</td>\n",
       "      <td>65</td>\n",
       "      <td>60461828.0</td>\n",
       "      <td>23.021</td>\n",
       "      <td>35220.084</td>\n",
       "      <td>3.18</td>\n",
       "    </tr>\n",
       "    <tr>\n",
       "      <th>8075</th>\n",
       "      <td>Germany</td>\n",
       "      <td>2020-06-09</td>\n",
       "      <td>350</td>\n",
       "      <td>37</td>\n",
       "      <td>83783945.0</td>\n",
       "      <td>21.453</td>\n",
       "      <td>45229.245</td>\n",
       "      <td>8.00</td>\n",
       "    </tr>\n",
       "    <tr>\n",
       "      <th>10850</th>\n",
       "      <td>Italy</td>\n",
       "      <td>2020-06-10</td>\n",
       "      <td>283</td>\n",
       "      <td>79</td>\n",
       "      <td>60461828.0</td>\n",
       "      <td>23.021</td>\n",
       "      <td>35220.084</td>\n",
       "      <td>3.18</td>\n",
       "    </tr>\n",
       "    <tr>\n",
       "      <th>8076</th>\n",
       "      <td>Germany</td>\n",
       "      <td>2020-06-10</td>\n",
       "      <td>318</td>\n",
       "      <td>18</td>\n",
       "      <td>83783945.0</td>\n",
       "      <td>21.453</td>\n",
       "      <td>45229.245</td>\n",
       "      <td>8.00</td>\n",
       "    </tr>\n",
       "  </tbody>\n",
       "</table>\n",
       "<p>326 rows × 8 columns</p>\n",
       "</div>"
      ],
      "text/plain": [
       "      location       date  new_cases  new_deaths  population  \\\n",
       "7914   Germany 2019-12-31          0           0  83783945.0   \n",
       "10688    Italy 2019-12-31          0           0  60461828.0   \n",
       "7915   Germany 2020-01-01          0           0  83783945.0   \n",
       "10689    Italy 2020-01-01          0           0  60461828.0   \n",
       "7916   Germany 2020-01-02          0           0  83783945.0   \n",
       "...        ...        ...        ...         ...         ...   \n",
       "8074   Germany 2020-06-08        214           6  83783945.0   \n",
       "10849    Italy 2020-06-09        280          65  60461828.0   \n",
       "8075   Germany 2020-06-09        350          37  83783945.0   \n",
       "10850    Italy 2020-06-10        283          79  60461828.0   \n",
       "8076   Germany 2020-06-10        318          18  83783945.0   \n",
       "\n",
       "       aged_65_older_percent  gdp_per_capita  hospital_beds_per_thousand  \n",
       "7914                  21.453       45229.245                        8.00  \n",
       "10688                 23.021       35220.084                        3.18  \n",
       "7915                  21.453       45229.245                        8.00  \n",
       "10689                 23.021       35220.084                        3.18  \n",
       "7916                  21.453       45229.245                        8.00  \n",
       "...                      ...             ...                         ...  \n",
       "8074                  21.453       45229.245                        8.00  \n",
       "10849                 23.021       35220.084                        3.18  \n",
       "8075                  21.453       45229.245                        8.00  \n",
       "10850                 23.021       35220.084                        3.18  \n",
       "8076                  21.453       45229.245                        8.00  \n",
       "\n",
       "[326 rows x 8 columns]"
      ]
     },
     "execution_count": 134,
     "metadata": {},
     "output_type": "execute_result"
    }
   ],
   "source": [
    "rise=df_IG.sort_values(by=['date','new_cases'])\n",
    "rise"
   ]
  },
  {
   "cell_type": "code",
   "execution_count": 135,
   "metadata": {},
   "outputs": [
    {
     "name": "stdout",
     "output_type": "stream",
     "text": [
      "<class 'pandas.core.frame.DataFrame'>\n",
      "RangeIndex: 23082 entries, 0 to 23081\n",
      "Data columns (total 8 columns):\n",
      " #   Column                      Non-Null Count  Dtype         \n",
      "---  ------                      --------------  -----         \n",
      " 0   location                    23082 non-null  object        \n",
      " 1   date                        23082 non-null  datetime64[ns]\n",
      " 2   new_cases                   23082 non-null  int64         \n",
      " 3   new_deaths                  23082 non-null  int64         \n",
      " 4   population                  23018 non-null  float64       \n",
      " 5   aged_65_older_percent       20643 non-null  float64       \n",
      " 6   gdp_per_capita              20711 non-null  float64       \n",
      " 7   hospital_beds_per_thousand  19144 non-null  float64       \n",
      "dtypes: datetime64[ns](1), float64(4), int64(2), object(1)\n",
      "memory usage: 1.4+ MB\n"
     ]
    }
   ],
   "source": [
    "df_covid_data.info()"
   ]
  },
  {
   "cell_type": "code",
   "execution_count": 136,
   "metadata": {},
   "outputs": [],
   "source": [
    "y=df_covid_data[(df_covid_data.date >= '02/28/2020') & (df_covid_data.date <='03/20/2020')]"
   ]
  },
  {
   "cell_type": "code",
   "execution_count": 137,
   "metadata": {},
   "outputs": [
    {
     "data": {
      "text/plain": [
       "59       3.931334e+12\n",
       "60       3.931334e+12\n",
       "61       2.904885e+13\n",
       "62       2.904885e+13\n",
       "63       2.904885e+13\n",
       "             ...     \n",
       "23077    3.931334e+12\n",
       "23078    3.931334e+12\n",
       "23079    2.904885e+13\n",
       "23080    2.904885e+13\n",
       "23081    2.904885e+13\n",
       "Name: date, Length: 2107, dtype: float64"
      ]
     },
     "execution_count": 137,
     "metadata": {},
     "output_type": "execute_result"
    }
   ],
   "source": [
    "np.exp(y.date.dt.days_in_month)"
   ]
  },
  {
   "cell_type": "code",
   "execution_count": 138,
   "metadata": {},
   "outputs": [
    {
     "data": {
      "text/plain": [
       "59       0\n",
       "60       0\n",
       "61       0\n",
       "62       0\n",
       "63       3\n",
       "        ..\n",
       "23077    0\n",
       "23078    0\n",
       "23079    0\n",
       "23080    0\n",
       "23081   -9\n",
       "Name: new_cases, Length: 2107, dtype: int64"
      ]
     },
     "execution_count": 138,
     "metadata": {},
     "output_type": "execute_result"
    }
   ],
   "source": [
    "y.new_cases"
   ]
  },
  {
   "cell_type": "code",
   "execution_count": 139,
   "metadata": {},
   "outputs": [
    {
     "data": {
      "text/plain": [
       "59       3.931334e+12\n",
       "60       3.931334e+12\n",
       "61       2.904885e+13\n",
       "62       2.904885e+13\n",
       "63       2.904885e+13\n",
       "             ...     \n",
       "23077    3.931334e+12\n",
       "23078    3.931334e+12\n",
       "23079    2.904885e+13\n",
       "23080    2.904885e+13\n",
       "23081    2.904885e+13\n",
       "Name: date, Length: 2107, dtype: float64"
      ]
     },
     "execution_count": 139,
     "metadata": {},
     "output_type": "execute_result"
    }
   ],
   "source": [
    "#plt.plot(np.exp(y.date.dt.days_in_month),np.exp(y.new_cases))\n",
    "y=np.exp(y.date.dt.days_in_month)\n",
    "y"
   ]
  },
  {
   "cell_type": "code",
   "execution_count": 182,
   "metadata": {},
   "outputs": [],
   "source": [
    "df_covid_data['death_rate']=df_covid_data.new_deaths/df_covid_data.population"
   ]
  },
  {
   "cell_type": "code",
   "execution_count": 183,
   "metadata": {},
   "outputs": [],
   "source": [
    "df_covid_data['death_rate']=df_covid_data.death_rate*1000000"
   ]
  },
  {
   "cell_type": "code",
   "execution_count": 184,
   "metadata": {},
   "outputs": [
    {
     "data": {
      "text/html": [
       "<div>\n",
       "<style scoped>\n",
       "    .dataframe tbody tr th:only-of-type {\n",
       "        vertical-align: middle;\n",
       "    }\n",
       "\n",
       "    .dataframe tbody tr th {\n",
       "        vertical-align: top;\n",
       "    }\n",
       "\n",
       "    .dataframe thead th {\n",
       "        text-align: right;\n",
       "    }\n",
       "</style>\n",
       "<table border=\"1\" class=\"dataframe\">\n",
       "  <thead>\n",
       "    <tr style=\"text-align: right;\">\n",
       "      <th></th>\n",
       "      <th>location</th>\n",
       "      <th>date</th>\n",
       "      <th>new_cases</th>\n",
       "      <th>new_deaths</th>\n",
       "      <th>population</th>\n",
       "      <th>aged_65_older_percent</th>\n",
       "      <th>gdp_per_capita</th>\n",
       "      <th>hospital_beds_per_thousand</th>\n",
       "      <th>death_rate</th>\n",
       "    </tr>\n",
       "  </thead>\n",
       "  <tbody>\n",
       "    <tr>\n",
       "      <th>0</th>\n",
       "      <td>Afghanistan</td>\n",
       "      <td>2019-12-31</td>\n",
       "      <td>0</td>\n",
       "      <td>0</td>\n",
       "      <td>38928341.0</td>\n",
       "      <td>2.581</td>\n",
       "      <td>1803.987</td>\n",
       "      <td>0.5</td>\n",
       "      <td>0.0</td>\n",
       "    </tr>\n",
       "    <tr>\n",
       "      <th>1</th>\n",
       "      <td>Afghanistan</td>\n",
       "      <td>2020-01-01</td>\n",
       "      <td>0</td>\n",
       "      <td>0</td>\n",
       "      <td>38928341.0</td>\n",
       "      <td>2.581</td>\n",
       "      <td>1803.987</td>\n",
       "      <td>0.5</td>\n",
       "      <td>0.0</td>\n",
       "    </tr>\n",
       "    <tr>\n",
       "      <th>2</th>\n",
       "      <td>Afghanistan</td>\n",
       "      <td>2020-01-02</td>\n",
       "      <td>0</td>\n",
       "      <td>0</td>\n",
       "      <td>38928341.0</td>\n",
       "      <td>2.581</td>\n",
       "      <td>1803.987</td>\n",
       "      <td>0.5</td>\n",
       "      <td>0.0</td>\n",
       "    </tr>\n",
       "    <tr>\n",
       "      <th>3</th>\n",
       "      <td>Afghanistan</td>\n",
       "      <td>2020-01-03</td>\n",
       "      <td>0</td>\n",
       "      <td>0</td>\n",
       "      <td>38928341.0</td>\n",
       "      <td>2.581</td>\n",
       "      <td>1803.987</td>\n",
       "      <td>0.5</td>\n",
       "      <td>0.0</td>\n",
       "    </tr>\n",
       "    <tr>\n",
       "      <th>4</th>\n",
       "      <td>Afghanistan</td>\n",
       "      <td>2020-01-04</td>\n",
       "      <td>0</td>\n",
       "      <td>0</td>\n",
       "      <td>38928341.0</td>\n",
       "      <td>2.581</td>\n",
       "      <td>1803.987</td>\n",
       "      <td>0.5</td>\n",
       "      <td>0.0</td>\n",
       "    </tr>\n",
       "    <tr>\n",
       "      <th>...</th>\n",
       "      <td>...</td>\n",
       "      <td>...</td>\n",
       "      <td>...</td>\n",
       "      <td>...</td>\n",
       "      <td>...</td>\n",
       "      <td>...</td>\n",
       "      <td>...</td>\n",
       "      <td>...</td>\n",
       "      <td>...</td>\n",
       "    </tr>\n",
       "    <tr>\n",
       "      <th>23077</th>\n",
       "      <td>International</td>\n",
       "      <td>2020-02-28</td>\n",
       "      <td>0</td>\n",
       "      <td>0</td>\n",
       "      <td>NaN</td>\n",
       "      <td>NaN</td>\n",
       "      <td>NaN</td>\n",
       "      <td>NaN</td>\n",
       "      <td>NaN</td>\n",
       "    </tr>\n",
       "    <tr>\n",
       "      <th>23078</th>\n",
       "      <td>International</td>\n",
       "      <td>2020-02-29</td>\n",
       "      <td>0</td>\n",
       "      <td>2</td>\n",
       "      <td>NaN</td>\n",
       "      <td>NaN</td>\n",
       "      <td>NaN</td>\n",
       "      <td>NaN</td>\n",
       "      <td>NaN</td>\n",
       "    </tr>\n",
       "    <tr>\n",
       "      <th>23079</th>\n",
       "      <td>International</td>\n",
       "      <td>2020-03-01</td>\n",
       "      <td>0</td>\n",
       "      <td>0</td>\n",
       "      <td>NaN</td>\n",
       "      <td>NaN</td>\n",
       "      <td>NaN</td>\n",
       "      <td>NaN</td>\n",
       "      <td>NaN</td>\n",
       "    </tr>\n",
       "    <tr>\n",
       "      <th>23080</th>\n",
       "      <td>International</td>\n",
       "      <td>2020-03-02</td>\n",
       "      <td>0</td>\n",
       "      <td>0</td>\n",
       "      <td>NaN</td>\n",
       "      <td>NaN</td>\n",
       "      <td>NaN</td>\n",
       "      <td>NaN</td>\n",
       "      <td>NaN</td>\n",
       "    </tr>\n",
       "    <tr>\n",
       "      <th>23081</th>\n",
       "      <td>International</td>\n",
       "      <td>2020-03-10</td>\n",
       "      <td>-9</td>\n",
       "      <td>1</td>\n",
       "      <td>NaN</td>\n",
       "      <td>NaN</td>\n",
       "      <td>NaN</td>\n",
       "      <td>NaN</td>\n",
       "      <td>NaN</td>\n",
       "    </tr>\n",
       "  </tbody>\n",
       "</table>\n",
       "<p>23082 rows × 9 columns</p>\n",
       "</div>"
      ],
      "text/plain": [
       "            location       date  new_cases  new_deaths  population  \\\n",
       "0        Afghanistan 2019-12-31          0           0  38928341.0   \n",
       "1        Afghanistan 2020-01-01          0           0  38928341.0   \n",
       "2        Afghanistan 2020-01-02          0           0  38928341.0   \n",
       "3        Afghanistan 2020-01-03          0           0  38928341.0   \n",
       "4        Afghanistan 2020-01-04          0           0  38928341.0   \n",
       "...              ...        ...        ...         ...         ...   \n",
       "23077  International 2020-02-28          0           0         NaN   \n",
       "23078  International 2020-02-29          0           2         NaN   \n",
       "23079  International 2020-03-01          0           0         NaN   \n",
       "23080  International 2020-03-02          0           0         NaN   \n",
       "23081  International 2020-03-10         -9           1         NaN   \n",
       "\n",
       "       aged_65_older_percent  gdp_per_capita  hospital_beds_per_thousand  \\\n",
       "0                      2.581        1803.987                         0.5   \n",
       "1                      2.581        1803.987                         0.5   \n",
       "2                      2.581        1803.987                         0.5   \n",
       "3                      2.581        1803.987                         0.5   \n",
       "4                      2.581        1803.987                         0.5   \n",
       "...                      ...             ...                         ...   \n",
       "23077                    NaN             NaN                         NaN   \n",
       "23078                    NaN             NaN                         NaN   \n",
       "23079                    NaN             NaN                         NaN   \n",
       "23080                    NaN             NaN                         NaN   \n",
       "23081                    NaN             NaN                         NaN   \n",
       "\n",
       "       death_rate  \n",
       "0             0.0  \n",
       "1             0.0  \n",
       "2             0.0  \n",
       "3             0.0  \n",
       "4             0.0  \n",
       "...           ...  \n",
       "23077         NaN  \n",
       "23078         NaN  \n",
       "23079         NaN  \n",
       "23080         NaN  \n",
       "23081         NaN  \n",
       "\n",
       "[23082 rows x 9 columns]"
      ]
     },
     "execution_count": 184,
     "metadata": {},
     "output_type": "execute_result"
    }
   ],
   "source": [
    "df_covid_data"
   ]
  },
  {
   "cell_type": "code",
   "execution_count": null,
   "metadata": {},
   "outputs": [],
   "source": []
  },
  {
   "cell_type": "code",
   "execution_count": null,
   "metadata": {},
   "outputs": [],
   "source": []
  },
  {
   "cell_type": "code",
   "execution_count": null,
   "metadata": {},
   "outputs": [],
   "source": []
  },
  {
   "cell_type": "code",
   "execution_count": null,
   "metadata": {},
   "outputs": [],
   "source": []
  },
  {
   "cell_type": "code",
   "execution_count": null,
   "metadata": {},
   "outputs": [],
   "source": []
  },
  {
   "cell_type": "code",
   "execution_count": null,
   "metadata": {},
   "outputs": [],
   "source": []
  },
  {
   "cell_type": "code",
   "execution_count": null,
   "metadata": {},
   "outputs": [],
   "source": []
  },
  {
   "cell_type": "code",
   "execution_count": null,
   "metadata": {},
   "outputs": [],
   "source": []
  },
  {
   "cell_type": "code",
   "execution_count": null,
   "metadata": {},
   "outputs": [],
   "source": []
  },
  {
   "cell_type": "code",
   "execution_count": null,
   "metadata": {},
   "outputs": [],
   "source": []
  },
  {
   "cell_type": "code",
   "execution_count": null,
   "metadata": {},
   "outputs": [],
   "source": []
  },
  {
   "cell_type": "code",
   "execution_count": null,
   "metadata": {},
   "outputs": [],
   "source": []
  },
  {
   "cell_type": "code",
   "execution_count": null,
   "metadata": {},
   "outputs": [],
   "source": []
  },
  {
   "cell_type": "code",
   "execution_count": null,
   "metadata": {},
   "outputs": [],
   "source": []
  },
  {
   "cell_type": "code",
   "execution_count": null,
   "metadata": {},
   "outputs": [],
   "source": []
  },
  {
   "cell_type": "code",
   "execution_count": null,
   "metadata": {},
   "outputs": [],
   "source": []
  },
  {
   "cell_type": "code",
   "execution_count": null,
   "metadata": {},
   "outputs": [],
   "source": []
  },
  {
   "cell_type": "code",
   "execution_count": null,
   "metadata": {},
   "outputs": [],
   "source": []
  },
  {
   "cell_type": "code",
   "execution_count": null,
   "metadata": {},
   "outputs": [],
   "source": []
  },
  {
   "cell_type": "code",
   "execution_count": null,
   "metadata": {},
   "outputs": [],
   "source": []
  },
  {
   "cell_type": "code",
   "execution_count": null,
   "metadata": {},
   "outputs": [],
   "source": []
  },
  {
   "cell_type": "code",
   "execution_count": 143,
   "metadata": {},
   "outputs": [
    {
     "data": {
      "text/plain": [
       "<AxesSubplot:>"
      ]
     },
     "execution_count": 143,
     "metadata": {},
     "output_type": "execute_result"
    },
    {
     "data": {
      "image/png": "[encoded data removed]",
      "text/plain": [
       "<Figure size 720x576 with 1 Axes>"
      ]
     },
     "metadata": {
      "needs_background": "light"
     },
     "output_type": "display_data"
    }
   ],
   "source": [
    "df = pd.DataFrame(df_cardio_base, columns=['age'])\n",
    "\n",
    "df.plot.box(figsize =(10,8))"
   ]
  },
  {
   "cell_type": "code",
   "execution_count": 144,
   "metadata": {},
   "outputs": [
    {
     "data": {
      "image/png": "[encoded data removed]",
      "text/plain": [
       "<Figure size 1440x720 with 1 Axes>"
      ]
     },
     "metadata": {
      "needs_background": "light"
     },
     "output_type": "display_data"
    }
   ],
   "source": [
    "train_data['age_years'] = round(train_data['age']/365,0)\n",
    "\n",
    "# Plot Histogram\n",
    "\n",
    "fig, ax = plt.subplots()\n",
    "\n",
    "ax.hist(train_data['age_years'],bins=15, cumulative=False)\n",
    "\n",
    "ax.set_xlabel('Age (Years)')\n",
    "\n",
    "ax.set_ylabel('Frequency')\n",
    "\n",
    "plt.show()"
   ]
  },
  {
   "cell_type": "code",
   "execution_count": 145,
   "metadata": {},
   "outputs": [
    {
     "data": {
      "text/plain": [
       "22343    10798\n",
       "30666    10859\n",
       "6219     10878\n",
       "55905    10964\n",
       "31762    14275\n",
       "23691    14277\n",
       "38594    14282\n",
       "45694    14284\n",
       "53806    14287\n",
       "54690    14291\n",
       "Name: age, dtype: int64"
      ]
     },
     "execution_count": 145,
     "metadata": {},
     "output_type": "execute_result"
    }
   ],
   "source": [
    "# Get lowest 10 values\n",
    "df_cardio_base['age'].sort_values()[:10]"
   ]
  },
  {
   "cell_type": "code",
   "execution_count": 146,
   "metadata": {},
   "outputs": [
    {
     "data": {
      "image/png": "[encoded data removed]",
      "text/plain": [
       "<Figure size 1440x720 with 1 Axes>"
      ]
     },
     "metadata": {},
     "output_type": "display_data"
    }
   ],
   "source": [
    "# Get counts for each gender\n",
    "\n",
    "gender_summary=df_cardio_base.groupby('gender')['gender'].count()\n",
    "\n",
    "gender_summary.index=['Women', 'Men']\n",
    "\n",
    "# Get %\n",
    "\n",
    "gender_pct = round(gender_summary*100/gender_summary.sum(),0)\n",
    "\n",
    "# Bar Chart\n",
    "\n",
    "\n",
    "plt.style.use('ggplot')\n",
    "\n",
    "plt.bar(gender_summary.index, gender_summary, color='green')\n",
    "\n",
    "plt.xlabel(\"Gender\")\n",
    "\n",
    "plt.ylabel(\"Customer Counts\")\n",
    "\n",
    "plt.title(\"Patients by Gender\")\n",
    "\n",
    "plt.xticks(rotation=90) # change orientation of X axis tick label\n",
    "\n",
    "# text on the top\n",
    "\n",
    "for index, value in enumerate(gender_pct):\n",
    "\n",
    "    plt.text(index,gender_summary[index]+value*10, str(int(value))+\"%\")\n",
    "\n",
    "plt.show()\n",
    "plt.close()"
   ]
  },
  {
   "cell_type": "code",
   "execution_count": 147,
   "metadata": {},
   "outputs": [
    {
     "data": {
      "text/plain": [
       "3237     198\n",
       "63154    198\n",
       "30238    198\n",
       "12007    198\n",
       "39351    198\n",
       "40090    198\n",
       "8897     198\n",
       "41901    200\n",
       "21628    207\n",
       "6486     207\n",
       "Name: height, dtype: int64"
      ]
     },
     "execution_count": 147,
     "metadata": {},
     "output_type": "execute_result"
    }
   ],
   "source": [
    "df_cardio_base['height'] = np.where(df_cardio_base['height']>207,207,df_cardio_base['height'])\n",
    "\n",
    "df_cardio_base['height'].sort_values()[-10:]"
   ]
  },
  {
   "cell_type": "code",
   "execution_count": 148,
   "metadata": {},
   "outputs": [
    {
     "data": {
      "image/png": "[encoded data removed]",
      "text/plain": [
       "<Figure size 1440x720 with 1 Axes>"
      ]
     },
     "metadata": {},
     "output_type": "display_data"
    }
   ],
   "source": [
    "# Create multiple group using lamda function\n",
    "\n",
    "def ap (values):\n",
    "\n",
    "    if values<=120:\n",
    "\n",
    "        return 1\n",
    "\n",
    "    elif 120<values<=200:\n",
    "\n",
    "        return 2\n",
    "\n",
    "    else:\n",
    "\n",
    "        return 3\n",
    "\n",
    "df_cardio_base['ap_hi_cat']=df_cardio_base.ap_hi.apply(lambda x: ap(x) )\n",
    "\n",
    "df_cardio_base['ap_hi_cat'].value_counts()\n",
    "\n",
    "df_cardio_base['ap_hi'] = np.where(df_cardio_base['ap_hi']>200,201,df_cardio_base['ap_hi'])\n",
    "\n",
    "# See distribution now\n",
    "\n",
    "# Plot Histogram\n",
    "\n",
    "fig, ax = plt.subplots()\n",
    "\n",
    "ax.hist(df_cardio_base['ap_hi'],bins=25, cumulative=False)\n",
    "\n",
    "ax.set_xlabel('Systolic blood pressure')\n",
    "\n",
    "ax.set_ylabel('Frequency')\n",
    "\n",
    "plt.show()"
   ]
  },
  {
   "cell_type": "code",
   "execution_count": 149,
   "metadata": {},
   "outputs": [],
   "source": [
    "# Create multiple group using lamda function\n",
    "\n",
    "def aplow (values):\n",
    "\n",
    "    if values<=50:\n",
    "\n",
    "        return 1\n",
    "\n",
    "    elif 50<values<=120:\n",
    "\n",
    "        return 2\n",
    "\n",
    "    else:\n",
    "\n",
    "        return 3\n",
    "\n",
    "df_cardio_base['ap_lo_cat']=df_cardio_base.ap_lo.apply(lambda x: aplow(x) )\n",
    "\n",
    "# Capping\n",
    "\n",
    "def capping(series, lowMax, highMin):\n",
    "\n",
    "    if series <lowMax:\n",
    "\n",
    "        return lowMax\n",
    "\n",
    "    elif series>highMin:\n",
    "\n",
    "        return highMin\n",
    "\n",
    "    else:\n",
    "\n",
    "        return series\n",
    "\n",
    "df_cardio_base['ap_lo'] = df_cardio_base.ap_lo.apply(lambda x: capping(x,50,120) )"
   ]
  },
  {
   "cell_type": "code",
   "execution_count": 150,
   "metadata": {},
   "outputs": [
    {
     "data": {
      "text/plain": [
       "1    68017\n",
       "0     1983\n",
       "Name: ap_lo_mod_10, dtype: int64"
      ]
     },
     "execution_count": 150,
     "metadata": {},
     "output_type": "execute_result"
    }
   ],
   "source": [
    "df_cardio_base['ap_lo_mod_10'] = np.where(df_cardio_base['ap_lo']%10==0,1,0)\n",
    "\n",
    "df_cardio_base['ap_lo_mod_10'].value_counts()"
   ]
  },
  {
   "cell_type": "code",
   "execution_count": 151,
   "metadata": {},
   "outputs": [
    {
     "data": {
      "image/png": "[encoded data removed]",
      "text/plain": [
       "<Figure size 864x720 with 1 Axes>"
      ]
     },
     "metadata": {},
     "output_type": "display_data"
    }
   ],
   "source": [
    "import warnings\n",
    "warnings.filterwarnings(\"ignore\")\n",
    "df_melt = pd.melt(frame=train_data, value_vars=['height'], id_vars=['gender'])\n",
    "plt.figure(figsize=(12, 10))\n",
    "ax = sns.violinplot(\n",
    "    x='variable', \n",
    "    y='value', \n",
    "    hue='gender', \n",
    "    split=True, \n",
    "    data=df_melt, \n",
    "    scale='count',\n",
    "    scale_hue=False,\n",
    "    palette=\"Set2\")"
   ]
  },
  {
   "cell_type": "code",
   "execution_count": 152,
   "metadata": {},
   "outputs": [
    {
     "data": {
      "image/png": "[encoded data removed]",
      "text/plain": [
       "<Figure size 1440x720 with 1 Axes>"
      ]
     },
     "metadata": {},
     "output_type": "display_data"
    }
   ],
   "source": [
    "# Create summary table\n",
    "\n",
    "smoke_summary=df_cardio_base.groupby('smoke')['smoke'].count()\n",
    "\n",
    "# Pie Chart\n",
    "\n",
    "import matplotlib.pyplot as plt\n",
    "\n",
    "label = 'Non Smokers','Smokers'\n",
    "\n",
    "plt.pie(smoke_summary,labels=label,autopct='%1.1f%%')\n",
    "\n",
    "plt.title('Smoking')\n",
    "\n",
    "plt.axis('equal')\n",
    "\n",
    "plt.show()"
   ]
  },
  {
   "cell_type": "code",
   "execution_count": 153,
   "metadata": {},
   "outputs": [],
   "source": [
    "df_cardio_base['bmi'] = np.round(df_cardio_base['weight']/((df_cardio_base['height']/100)*(df_cardio_base['height']/100)),0)\n",
    "train_data['bmi'] = np.round(train_data['weight']/((train_data['height']/100)*(train_data['height']/100)),0)\n",
    "test_data['bmi'] = np.round(test_data['weight']/((test_data['height']/100)*(test_data['height']/100)),0)"
   ]
  },
  {
   "cell_type": "code",
   "execution_count": 154,
   "metadata": {},
   "outputs": [
    {
     "data": {
      "image/png": "[encoded data removed]",
      "text/plain": [
       "<Figure size 1440x720 with 1 Axes>"
      ]
     },
     "metadata": {},
     "output_type": "display_data"
    }
   ],
   "source": [
    "# Outlier Treatment\n",
    "\n",
    "\n",
    "df_cardio_base['bmi'] = np.where(df_cardio_base['bmi']>50,50,df_cardio_base['bmi'])\n",
    "\n",
    " \n",
    "\n",
    "# Create multiple group using lamda function\n",
    "\n",
    "def bmicat(values):\n",
    "\n",
    "    if values <=18.5:\n",
    "\n",
    "        return 1\n",
    "\n",
    "    elif 18.5<values<=24.9:\n",
    "\n",
    "        return 2\n",
    "\n",
    "    elif 24.9<values<=29.9:\n",
    "\n",
    "        return 3\n",
    "\n",
    "    else:\n",
    "\n",
    "        return 4\n",
    "\n",
    "   \n",
    "\n",
    "# Create categorical variable\n",
    "\n",
    "df_cardio_base['bmi_cat'] = df_cardio_base.bmi.apply(lambda x: bmicat(x) )\n",
    "\n",
    " \n",
    "\n",
    "# Get counts for each gender\n",
    "\n",
    "bmi_cat_summary=df_cardio_base.groupby('bmi_cat')['bmi_cat'].count()\n",
    "\n",
    "bmi_cat_summary.index=['Underweight', 'Normal Weight', \"Overweight\",\"Obesity\"]\n",
    "\n",
    "# Get %\n",
    "\n",
    "bmi_pct = round(bmi_cat_summary*100/bmi_cat_summary.sum(),0)\n",
    "\n",
    "# Bar Chart\n",
    "\n",
    "plt.style.use('ggplot')\n",
    "\n",
    "plt.bar(bmi_cat_summary.index, bmi_cat_summary, color='green')\n",
    "\n",
    "plt.xlabel(\"BMI\")\n",
    "\n",
    "plt.ylabel(\"Customer Counts\")\n",
    "\n",
    "plt.title(\"Patients by BMI level\")\n",
    "\n",
    "plt.xticks(rotation=90) # change orientation of X axis tick label\n",
    "\n",
    "# text on the top\n",
    "\n",
    "for index, value in enumerate(bmi_pct):\n",
    "\n",
    "    plt.text(index,bmi_cat_summary[index]+value*10, str(int(value))+\"%\")\n",
    "\n",
    "plt.show()"
   ]
  },
  {
   "cell_type": "code",
   "execution_count": 155,
   "metadata": {},
   "outputs": [
    {
     "data": {
      "image/png": "[encoded data removed]",
      "text/plain": [
       "<Figure size 549.725x720 with 1 Axes>"
      ]
     },
     "metadata": {},
     "output_type": "display_data"
    }
   ],
   "source": [
    "train_data['bmi'] = train_data['weight']/((train_data['height']/100)**2)\n",
    "sns.catplot(x=\"gender\", y=\"bmi\", hue=\"alco\", data=train_data, color = \"yellow\",kind=\"box\", height=10, aspect=.7);"
   ]
  },
  {
   "cell_type": "code",
   "execution_count": 156,
   "metadata": {},
   "outputs": [
    {
     "data": {
      "text/html": [
       "<div>\n",
       "<style scoped>\n",
       "    .dataframe tbody tr th:only-of-type {\n",
       "        vertical-align: middle;\n",
       "    }\n",
       "\n",
       "    .dataframe tbody tr th {\n",
       "        vertical-align: top;\n",
       "    }\n",
       "\n",
       "    .dataframe thead th {\n",
       "        text-align: right;\n",
       "    }\n",
       "</style>\n",
       "<table border=\"1\" class=\"dataframe\">\n",
       "  <thead>\n",
       "    <tr style=\"text-align: right;\">\n",
       "      <th></th>\n",
       "      <th>id</th>\n",
       "      <th>age</th>\n",
       "      <th>gender</th>\n",
       "      <th>height</th>\n",
       "      <th>weight</th>\n",
       "      <th>ap_hi</th>\n",
       "      <th>ap_lo</th>\n",
       "      <th>cholesterol</th>\n",
       "      <th>smoke</th>\n",
       "      <th>alco</th>\n",
       "      <th>years</th>\n",
       "      <th>age_years</th>\n",
       "      <th>bmi</th>\n",
       "    </tr>\n",
       "  </thead>\n",
       "  <tbody>\n",
       "    <tr>\n",
       "      <th>0</th>\n",
       "      <td>44</td>\n",
       "      <td>14605</td>\n",
       "      <td>1</td>\n",
       "      <td>159</td>\n",
       "      <td>60.0</td>\n",
       "      <td>110</td>\n",
       "      <td>70</td>\n",
       "      <td>1</td>\n",
       "      <td>0</td>\n",
       "      <td>0</td>\n",
       "      <td>40</td>\n",
       "      <td>40.0</td>\n",
       "      <td>23.733238</td>\n",
       "    </tr>\n",
       "    <tr>\n",
       "      <th>1</th>\n",
       "      <td>45</td>\n",
       "      <td>20652</td>\n",
       "      <td>1</td>\n",
       "      <td>160</td>\n",
       "      <td>73.0</td>\n",
       "      <td>130</td>\n",
       "      <td>85</td>\n",
       "      <td>1</td>\n",
       "      <td>0</td>\n",
       "      <td>0</td>\n",
       "      <td>57</td>\n",
       "      <td>57.0</td>\n",
       "      <td>28.515625</td>\n",
       "    </tr>\n",
       "    <tr>\n",
       "      <th>2</th>\n",
       "      <td>46</td>\n",
       "      <td>21940</td>\n",
       "      <td>2</td>\n",
       "      <td>173</td>\n",
       "      <td>82.0</td>\n",
       "      <td>140</td>\n",
       "      <td>90</td>\n",
       "      <td>3</td>\n",
       "      <td>0</td>\n",
       "      <td>0</td>\n",
       "      <td>60</td>\n",
       "      <td>60.0</td>\n",
       "      <td>27.398176</td>\n",
       "    </tr>\n",
       "    <tr>\n",
       "      <th>3</th>\n",
       "      <td>47</td>\n",
       "      <td>20404</td>\n",
       "      <td>1</td>\n",
       "      <td>163</td>\n",
       "      <td>55.0</td>\n",
       "      <td>120</td>\n",
       "      <td>80</td>\n",
       "      <td>1</td>\n",
       "      <td>0</td>\n",
       "      <td>0</td>\n",
       "      <td>56</td>\n",
       "      <td>56.0</td>\n",
       "      <td>20.700817</td>\n",
       "    </tr>\n",
       "  </tbody>\n",
       "</table>\n",
       "</div>"
      ],
      "text/plain": [
       "   id    age  gender  height  weight  ap_hi  ap_lo  cholesterol  smoke  alco  \\\n",
       "0  44  14605       1     159    60.0    110     70            1      0     0   \n",
       "1  45  20652       1     160    73.0    130     85            1      0     0   \n",
       "2  46  21940       2     173    82.0    140     90            3      0     0   \n",
       "3  47  20404       1     163    55.0    120     80            1      0     0   \n",
       "\n",
       "   years  age_years        bmi  \n",
       "0     40       40.0  23.733238  \n",
       "1     57       57.0  28.515625  \n",
       "2     60       60.0  27.398176  \n",
       "3     56       56.0  20.700817  "
      ]
     },
     "execution_count": 156,
     "metadata": {},
     "output_type": "execute_result"
    }
   ],
   "source": [
    "train_data.head(4)"
   ]
  },
  {
   "cell_type": "code",
   "execution_count": 157,
   "metadata": {},
   "outputs": [],
   "source": [
    "test_data['bmi'] = test_data['weight']/((test_data['height']/100)**2)"
   ]
  },
  {
   "cell_type": "code",
   "execution_count": 158,
   "metadata": {},
   "outputs": [
    {
     "data": {
      "text/html": [
       "<div>\n",
       "<style scoped>\n",
       "    .dataframe tbody tr th:only-of-type {\n",
       "        vertical-align: middle;\n",
       "    }\n",
       "\n",
       "    .dataframe tbody tr th {\n",
       "        vertical-align: top;\n",
       "    }\n",
       "\n",
       "    .dataframe thead th {\n",
       "        text-align: right;\n",
       "    }\n",
       "</style>\n",
       "<table border=\"1\" class=\"dataframe\">\n",
       "  <thead>\n",
       "    <tr style=\"text-align: right;\">\n",
       "      <th></th>\n",
       "      <th>id</th>\n",
       "      <th>age</th>\n",
       "      <th>gender</th>\n",
       "      <th>height</th>\n",
       "      <th>weight</th>\n",
       "      <th>ap_hi</th>\n",
       "      <th>ap_lo</th>\n",
       "      <th>cholesterol</th>\n",
       "      <th>smoke</th>\n",
       "      <th>bmi</th>\n",
       "    </tr>\n",
       "  </thead>\n",
       "  <tbody>\n",
       "    <tr>\n",
       "      <th>0</th>\n",
       "      <td>0</td>\n",
       "      <td>18393</td>\n",
       "      <td>2</td>\n",
       "      <td>168</td>\n",
       "      <td>62.0</td>\n",
       "      <td>110</td>\n",
       "      <td>80</td>\n",
       "      <td>1</td>\n",
       "      <td>0</td>\n",
       "      <td>21.967120</td>\n",
       "    </tr>\n",
       "    <tr>\n",
       "      <th>1</th>\n",
       "      <td>1</td>\n",
       "      <td>20228</td>\n",
       "      <td>1</td>\n",
       "      <td>156</td>\n",
       "      <td>85.0</td>\n",
       "      <td>140</td>\n",
       "      <td>90</td>\n",
       "      <td>3</td>\n",
       "      <td>0</td>\n",
       "      <td>34.927679</td>\n",
       "    </tr>\n",
       "    <tr>\n",
       "      <th>2</th>\n",
       "      <td>2</td>\n",
       "      <td>18857</td>\n",
       "      <td>1</td>\n",
       "      <td>165</td>\n",
       "      <td>64.0</td>\n",
       "      <td>130</td>\n",
       "      <td>70</td>\n",
       "      <td>3</td>\n",
       "      <td>0</td>\n",
       "      <td>23.507805</td>\n",
       "    </tr>\n",
       "    <tr>\n",
       "      <th>3</th>\n",
       "      <td>3</td>\n",
       "      <td>17623</td>\n",
       "      <td>2</td>\n",
       "      <td>169</td>\n",
       "      <td>82.0</td>\n",
       "      <td>150</td>\n",
       "      <td>100</td>\n",
       "      <td>1</td>\n",
       "      <td>0</td>\n",
       "      <td>28.710479</td>\n",
       "    </tr>\n",
       "  </tbody>\n",
       "</table>\n",
       "</div>"
      ],
      "text/plain": [
       "   id    age  gender  height  weight  ap_hi  ap_lo  cholesterol  smoke  \\\n",
       "0   0  18393       2     168    62.0    110     80            1      0   \n",
       "1   1  20228       1     156    85.0    140     90            3      0   \n",
       "2   2  18857       1     165    64.0    130     70            3      0   \n",
       "3   3  17623       2     169    82.0    150    100            1      0   \n",
       "\n",
       "         bmi  \n",
       "0  21.967120  \n",
       "1  34.927679  \n",
       "2  23.507805  \n",
       "3  28.710479  "
      ]
     },
     "execution_count": 158,
     "metadata": {},
     "output_type": "execute_result"
    }
   ],
   "source": [
    "test_data.head(4)"
   ]
  },
  {
   "cell_type": "code",
   "execution_count": 159,
   "metadata": {},
   "outputs": [
    {
     "data": {
      "text/plain": [
       "False"
      ]
     },
     "execution_count": 159,
     "metadata": {},
     "output_type": "execute_result"
    }
   ],
   "source": [
    "train_data.isnull().values.any()"
   ]
  },
  {
   "cell_type": "code",
   "execution_count": 160,
   "metadata": {},
   "outputs": [
    {
     "data": {
      "text/plain": [
       "False"
      ]
     },
     "execution_count": 160,
     "metadata": {},
     "output_type": "execute_result"
    }
   ],
   "source": [
    "test_data.isnull().values.any()"
   ]
  },
  {
   "cell_type": "code",
   "execution_count": 161,
   "metadata": {},
   "outputs": [],
   "source": [
    "df_cardio_base1.drop(df_cardio_base1[(df_cardio_base1['height'] > df_cardio_base1['height'].quantile(0.975)) | (df_cardio_base1['height'] < df_cardio_base1['height'].quantile(0.025))].index,inplace=True)\n",
    "df_cardio_base1.drop(df_cardio_base1[(df_cardio_base1['weight'] > df_cardio_base1['weight'].quantile(0.975)) | (df_cardio_base1['weight'] < df_cardio_base1['weight'].quantile(0.025))].index,inplace=True)"
   ]
  },
  {
   "cell_type": "code",
   "execution_count": 162,
   "metadata": {},
   "outputs": [
    {
     "name": "stdout",
     "output_type": "stream",
     "text": [
      "Diastilic pressure is higher than systolic one in 1082 cases\n"
     ]
    }
   ],
   "source": [
    "print(\"Diastilic pressure is higher than systolic one in {0} cases\".format(df_cardio_base1[df_cardio_base1['ap_lo']> df_cardio_base1['ap_hi']].shape[0]))"
   ]
  },
  {
   "cell_type": "code",
   "execution_count": 163,
   "metadata": {},
   "outputs": [],
   "source": [
    "df_cardio_base1.drop(df_cardio_base1[(df_cardio_base1['ap_hi'] > df_cardio_base1['ap_hi'].quantile(0.975)) | (df_cardio_base1['ap_hi'] < df_cardio_base1['ap_hi'].quantile(0.025))].index,inplace=True)\n",
    "df_cardio_base1.drop(df_cardio_base1[(df_cardio_base1['ap_lo'] > df_cardio_base1['ap_lo'].quantile(0.975)) | (df_cardio_base1['ap_lo'] < df_cardio_base1['ap_lo'].quantile(0.025))].index,inplace=True)"
   ]
  },
  {
   "cell_type": "code",
   "execution_count": 164,
   "metadata": {},
   "outputs": [
    {
     "name": "stdout",
     "output_type": "stream",
     "text": [
      "Diastilic pressure is higher than systolic one in 0 cases\n"
     ]
    },
    {
     "data": {
      "image/png": "[encoded data removed]",
      "text/plain": [
       "<Figure size 1440x720 with 1 Axes>"
      ]
     },
     "metadata": {},
     "output_type": "display_data"
    }
   ],
   "source": [
    "blood_pressure = df_cardio_base1.loc[:,['ap_lo','ap_hi']]\n",
    "sns.boxplot(x = 'variable',y = 'value',data = blood_pressure.melt())\n",
    "print(\"Diastilic pressure is higher than systolic one in {0} cases\".format(df_cardio_base1[df_cardio_base1['ap_lo']> df_cardio_base1['ap_hi']].shape[0]))"
   ]
  },
  {
   "cell_type": "code",
   "execution_count": 165,
   "metadata": {},
   "outputs": [
    {
     "data": {
      "image/png": "[encoded data removed]",
      "text/plain": [
       "<Figure size 792x648 with 2 Axes>"
      ]
     },
     "metadata": {},
     "output_type": "display_data"
    }
   ],
   "source": [
    "corr = df_cardio_base1.corr()\n",
    "cmap = sns.diverging_palette(220, 10, as_cmap=True)\n",
    "# Generate a mask for the upper triangle\n",
    "mask = np.zeros_like(corr, dtype=np.bool)\n",
    "mask[np.triu_indices_from(mask)] = True\n",
    "\n",
    "# Set up the matplotlib figure\n",
    "f, ax = plt.subplots(figsize=(11, 9))\n",
    "# Draw the heatmap with the mask and correct aspect ratio\n",
    "sns.heatmap(corr, mask=mask, cmap=cmap, vmax=.3, center=0,annot = True,\n",
    "            square=True, linewidths=.5, cbar_kws={\"shrink\": .5});"
   ]
  },
  {
   "cell_type": "code",
   "execution_count": 166,
   "metadata": {},
   "outputs": [
    {
     "data": {
      "image/png": "[encoded data removed]",
      "text/plain": [
       "<Figure size 792x648 with 2 Axes>"
      ]
     },
     "metadata": {},
     "output_type": "display_data"
    }
   ],
   "source": [
    "corr = train_data.corr()\n",
    "cmap = sns.diverging_palette(220, 10, as_cmap=True)\n",
    "# Generate a mask for the upper triangle\n",
    "mask = np.zeros_like(corr, dtype=np.bool)\n",
    "mask[np.triu_indices_from(mask)] = True\n",
    "\n",
    "# Set up the matplotlib figure\n",
    "f, ax = plt.subplots(figsize=(11, 9))\n",
    "# Draw the heatmap with the mask and correct aspect ratio\n",
    "sns.heatmap(corr, mask=mask, cmap=cmap, vmax=.3, center=0,annot = True,\n",
    "            square=True, linewidths=.5, cbar_kws={\"shrink\": .5});"
   ]
  },
  {
   "cell_type": "code",
   "execution_count": 167,
   "metadata": {},
   "outputs": [
    {
     "data": {
      "image/png": "[encoded data removed]",
      "text/plain": [
       "<Figure size 1440x720 with 1 Axes>"
      ]
     },
     "metadata": {},
     "output_type": "display_data"
    }
   ],
   "source": [
    "df_categorical = train_data.loc[:,['cholesterol','smoke', 'alco']]\n",
    "sns.countplot(x=\"variable\", hue=\"value\",data= pd.melt(df_categorical));"
   ]
  },
  {
   "cell_type": "code",
   "execution_count": null,
   "metadata": {},
   "outputs": [],
   "source": []
  },
  {
   "cell_type": "code",
   "execution_count": 168,
   "metadata": {},
   "outputs": [
    {
     "data": {
      "text/plain": [
       "<seaborn.axisgrid.FacetGrid at 0x1a818d6e490>"
      ]
     },
     "execution_count": 168,
     "metadata": {},
     "output_type": "execute_result"
    },
    {
     "data": {
      "image/png": "[encoded data removed]",
      "text/plain": [
       "<Figure size 765.725x360 with 2 Axes>"
      ]
     },
     "metadata": {},
     "output_type": "display_data"
    }
   ],
   "source": [
    "df_long = pd.melt(train_data, id_vars=['alco'], value_vars=['cholesterol', 'smoke'])\n",
    "sns.catplot(x=\"variable\", hue=\"value\", col=\"alco\",\n",
    "                data=df_long, kind=\"count\")"
   ]
  },
  {
   "cell_type": "code",
   "execution_count": 169,
   "metadata": {},
   "outputs": [
    {
     "data": {
      "text/plain": [
       "gender\n",
       "1    161.354667\n",
       "2    169.947895\n",
       "Name: height, dtype: float64"
      ]
     },
     "execution_count": 169,
     "metadata": {},
     "output_type": "execute_result"
    }
   ],
   "source": [
    "df_cardio_base.groupby('gender')['height'].mean()"
   ]
  },
  {
   "cell_type": "code",
   "execution_count": 170,
   "metadata": {},
   "outputs": [
    {
     "data": {
      "text/plain": [
       "1    45530\n",
       "2    24470\n",
       "Name: gender, dtype: int64"
      ]
     },
     "execution_count": 170,
     "metadata": {},
     "output_type": "execute_result"
    }
   ],
   "source": [
    "df_cardio_base ['gender'].value_counts()"
   ]
  },
  {
   "cell_type": "code",
   "execution_count": 171,
   "metadata": {},
   "outputs": [
    {
     "name": "stdout",
     "output_type": "stream",
     "text": [
      "<class 'pandas.core.frame.DataFrame'>\n",
      "Int64Index: 56903 entries, 0 to 56902\n",
      "Data columns (total 13 columns):\n",
      " #   Column       Non-Null Count  Dtype  \n",
      "---  ------       --------------  -----  \n",
      " 0   id           56903 non-null  int64  \n",
      " 1   age          56903 non-null  int64  \n",
      " 2   gender       56903 non-null  int64  \n",
      " 3   height       56903 non-null  int64  \n",
      " 4   weight       56903 non-null  float64\n",
      " 5   ap_hi        56903 non-null  int64  \n",
      " 6   ap_lo        56903 non-null  int64  \n",
      " 7   cholesterol  56903 non-null  int64  \n",
      " 8   smoke        56903 non-null  int64  \n",
      " 9   alco         56903 non-null  int64  \n",
      " 10  years        56903 non-null  int32  \n",
      " 11  age_years    56903 non-null  float64\n",
      " 12  bmi          56903 non-null  float64\n",
      "dtypes: float64(3), int32(1), int64(9)\n",
      "memory usage: 7.9 MB\n"
     ]
    }
   ],
   "source": [
    "train_data.info()"
   ]
  },
  {
   "cell_type": "code",
   "execution_count": 172,
   "metadata": {},
   "outputs": [
    {
     "data": {
      "text/html": [
       "<div>\n",
       "<style scoped>\n",
       "    .dataframe tbody tr th:only-of-type {\n",
       "        vertical-align: middle;\n",
       "    }\n",
       "\n",
       "    .dataframe tbody tr th {\n",
       "        vertical-align: top;\n",
       "    }\n",
       "\n",
       "    .dataframe thead th {\n",
       "        text-align: right;\n",
       "    }\n",
       "</style>\n",
       "<table border=\"1\" class=\"dataframe\">\n",
       "  <thead>\n",
       "    <tr style=\"text-align: right;\">\n",
       "      <th></th>\n",
       "      <th>id</th>\n",
       "      <th>age</th>\n",
       "      <th>gender</th>\n",
       "      <th>height</th>\n",
       "      <th>weight</th>\n",
       "      <th>ap_hi</th>\n",
       "      <th>ap_lo</th>\n",
       "      <th>cholesterol</th>\n",
       "      <th>smoke</th>\n",
       "      <th>ap_hi_cat</th>\n",
       "      <th>ap_lo_cat</th>\n",
       "      <th>ap_lo_mod_10</th>\n",
       "      <th>bmi</th>\n",
       "      <th>bmi_cat</th>\n",
       "    </tr>\n",
       "  </thead>\n",
       "  <tbody>\n",
       "    <tr>\n",
       "      <th>0</th>\n",
       "      <td>0</td>\n",
       "      <td>50.0</td>\n",
       "      <td>2</td>\n",
       "      <td>168</td>\n",
       "      <td>62.0</td>\n",
       "      <td>110</td>\n",
       "      <td>80</td>\n",
       "      <td>1</td>\n",
       "      <td>0</td>\n",
       "      <td>1</td>\n",
       "      <td>2</td>\n",
       "      <td>1</td>\n",
       "      <td>22.0</td>\n",
       "      <td>2</td>\n",
       "    </tr>\n",
       "    <tr>\n",
       "      <th>1</th>\n",
       "      <td>1</td>\n",
       "      <td>55.0</td>\n",
       "      <td>1</td>\n",
       "      <td>156</td>\n",
       "      <td>85.0</td>\n",
       "      <td>140</td>\n",
       "      <td>90</td>\n",
       "      <td>3</td>\n",
       "      <td>0</td>\n",
       "      <td>2</td>\n",
       "      <td>2</td>\n",
       "      <td>1</td>\n",
       "      <td>35.0</td>\n",
       "      <td>4</td>\n",
       "    </tr>\n",
       "    <tr>\n",
       "      <th>2</th>\n",
       "      <td>2</td>\n",
       "      <td>52.0</td>\n",
       "      <td>1</td>\n",
       "      <td>165</td>\n",
       "      <td>64.0</td>\n",
       "      <td>130</td>\n",
       "      <td>70</td>\n",
       "      <td>3</td>\n",
       "      <td>0</td>\n",
       "      <td>2</td>\n",
       "      <td>2</td>\n",
       "      <td>1</td>\n",
       "      <td>24.0</td>\n",
       "      <td>2</td>\n",
       "    </tr>\n",
       "    <tr>\n",
       "      <th>3</th>\n",
       "      <td>3</td>\n",
       "      <td>48.0</td>\n",
       "      <td>2</td>\n",
       "      <td>169</td>\n",
       "      <td>82.0</td>\n",
       "      <td>150</td>\n",
       "      <td>100</td>\n",
       "      <td>1</td>\n",
       "      <td>0</td>\n",
       "      <td>2</td>\n",
       "      <td>2</td>\n",
       "      <td>1</td>\n",
       "      <td>29.0</td>\n",
       "      <td>3</td>\n",
       "    </tr>\n",
       "    <tr>\n",
       "      <th>4</th>\n",
       "      <td>4</td>\n",
       "      <td>48.0</td>\n",
       "      <td>1</td>\n",
       "      <td>156</td>\n",
       "      <td>56.0</td>\n",
       "      <td>100</td>\n",
       "      <td>60</td>\n",
       "      <td>1</td>\n",
       "      <td>0</td>\n",
       "      <td>1</td>\n",
       "      <td>2</td>\n",
       "      <td>1</td>\n",
       "      <td>23.0</td>\n",
       "      <td>2</td>\n",
       "    </tr>\n",
       "    <tr>\n",
       "      <th>...</th>\n",
       "      <td>...</td>\n",
       "      <td>...</td>\n",
       "      <td>...</td>\n",
       "      <td>...</td>\n",
       "      <td>...</td>\n",
       "      <td>...</td>\n",
       "      <td>...</td>\n",
       "      <td>...</td>\n",
       "      <td>...</td>\n",
       "      <td>...</td>\n",
       "      <td>...</td>\n",
       "      <td>...</td>\n",
       "      <td>...</td>\n",
       "      <td>...</td>\n",
       "    </tr>\n",
       "    <tr>\n",
       "      <th>69995</th>\n",
       "      <td>99993</td>\n",
       "      <td>53.0</td>\n",
       "      <td>2</td>\n",
       "      <td>168</td>\n",
       "      <td>76.0</td>\n",
       "      <td>120</td>\n",
       "      <td>80</td>\n",
       "      <td>1</td>\n",
       "      <td>1</td>\n",
       "      <td>1</td>\n",
       "      <td>2</td>\n",
       "      <td>1</td>\n",
       "      <td>27.0</td>\n",
       "      <td>3</td>\n",
       "    </tr>\n",
       "    <tr>\n",
       "      <th>69996</th>\n",
       "      <td>99995</td>\n",
       "      <td>62.0</td>\n",
       "      <td>1</td>\n",
       "      <td>158</td>\n",
       "      <td>126.0</td>\n",
       "      <td>140</td>\n",
       "      <td>90</td>\n",
       "      <td>2</td>\n",
       "      <td>0</td>\n",
       "      <td>2</td>\n",
       "      <td>2</td>\n",
       "      <td>1</td>\n",
       "      <td>50.0</td>\n",
       "      <td>4</td>\n",
       "    </tr>\n",
       "    <tr>\n",
       "      <th>69997</th>\n",
       "      <td>99996</td>\n",
       "      <td>52.0</td>\n",
       "      <td>2</td>\n",
       "      <td>183</td>\n",
       "      <td>105.0</td>\n",
       "      <td>180</td>\n",
       "      <td>90</td>\n",
       "      <td>3</td>\n",
       "      <td>0</td>\n",
       "      <td>2</td>\n",
       "      <td>2</td>\n",
       "      <td>1</td>\n",
       "      <td>31.0</td>\n",
       "      <td>4</td>\n",
       "    </tr>\n",
       "    <tr>\n",
       "      <th>69998</th>\n",
       "      <td>99998</td>\n",
       "      <td>61.0</td>\n",
       "      <td>1</td>\n",
       "      <td>163</td>\n",
       "      <td>72.0</td>\n",
       "      <td>135</td>\n",
       "      <td>80</td>\n",
       "      <td>1</td>\n",
       "      <td>0</td>\n",
       "      <td>2</td>\n",
       "      <td>2</td>\n",
       "      <td>1</td>\n",
       "      <td>27.0</td>\n",
       "      <td>3</td>\n",
       "    </tr>\n",
       "    <tr>\n",
       "      <th>69999</th>\n",
       "      <td>99999</td>\n",
       "      <td>56.0</td>\n",
       "      <td>1</td>\n",
       "      <td>170</td>\n",
       "      <td>72.0</td>\n",
       "      <td>120</td>\n",
       "      <td>80</td>\n",
       "      <td>2</td>\n",
       "      <td>0</td>\n",
       "      <td>1</td>\n",
       "      <td>2</td>\n",
       "      <td>1</td>\n",
       "      <td>25.0</td>\n",
       "      <td>3</td>\n",
       "    </tr>\n",
       "  </tbody>\n",
       "</table>\n",
       "<p>70000 rows × 14 columns</p>\n",
       "</div>"
      ],
      "text/plain": [
       "          id   age  gender  height  weight  ap_hi  ap_lo  cholesterol  smoke  \\\n",
       "0          0  50.0       2     168    62.0    110     80            1      0   \n",
       "1          1  55.0       1     156    85.0    140     90            3      0   \n",
       "2          2  52.0       1     165    64.0    130     70            3      0   \n",
       "3          3  48.0       2     169    82.0    150    100            1      0   \n",
       "4          4  48.0       1     156    56.0    100     60            1      0   \n",
       "...      ...   ...     ...     ...     ...    ...    ...          ...    ...   \n",
       "69995  99993  53.0       2     168    76.0    120     80            1      1   \n",
       "69996  99995  62.0       1     158   126.0    140     90            2      0   \n",
       "69997  99996  52.0       2     183   105.0    180     90            3      0   \n",
       "69998  99998  61.0       1     163    72.0    135     80            1      0   \n",
       "69999  99999  56.0       1     170    72.0    120     80            2      0   \n",
       "\n",
       "       ap_hi_cat  ap_lo_cat  ap_lo_mod_10   bmi  bmi_cat  \n",
       "0              1          2             1  22.0        2  \n",
       "1              2          2             1  35.0        4  \n",
       "2              2          2             1  24.0        2  \n",
       "3              2          2             1  29.0        3  \n",
       "4              1          2             1  23.0        2  \n",
       "...          ...        ...           ...   ...      ...  \n",
       "69995          1          2             1  27.0        3  \n",
       "69996          2          2             1  50.0        4  \n",
       "69997          2          2             1  31.0        4  \n",
       "69998          2          2             1  27.0        3  \n",
       "69999          1          2             1  25.0        3  \n",
       "\n",
       "[70000 rows x 14 columns]"
      ]
     },
     "execution_count": 172,
     "metadata": {},
     "output_type": "execute_result"
    }
   ],
   "source": [
    "df_cardio_base['age'] = df_cardio_base['age']/365\n",
    "df_cardio_base.age = df_cardio_base.age.round()\n",
    "df_cardio_base"
   ]
  },
  {
   "cell_type": "code",
   "execution_count": 173,
   "metadata": {},
   "outputs": [
    {
     "data": {
      "text/plain": [
       "0.10823802420023199"
      ]
     },
     "execution_count": 173,
     "metadata": {},
     "output_type": "execute_result"
    }
   ],
   "source": [
    "temp = df_cardio_base.groupby(\"age\").mean()\n",
    "mx = max(temp.weight)\n",
    "mn = min(temp.weight)\n",
    "(mx-mn)/mx"
   ]
  },
  {
   "cell_type": "code",
   "execution_count": 174,
   "metadata": {},
   "outputs": [
    {
     "data": {
      "text/html": [
       "<div>\n",
       "<style scoped>\n",
       "    .dataframe tbody tr th:only-of-type {\n",
       "        vertical-align: middle;\n",
       "    }\n",
       "\n",
       "    .dataframe tbody tr th {\n",
       "        vertical-align: top;\n",
       "    }\n",
       "\n",
       "    .dataframe thead th {\n",
       "        text-align: right;\n",
       "    }\n",
       "</style>\n",
       "<table border=\"1\" class=\"dataframe\">\n",
       "  <thead>\n",
       "    <tr style=\"text-align: right;\">\n",
       "      <th></th>\n",
       "      <th>id</th>\n",
       "      <th>gender</th>\n",
       "      <th>height</th>\n",
       "      <th>weight</th>\n",
       "      <th>ap_hi</th>\n",
       "      <th>ap_lo</th>\n",
       "      <th>cholesterol</th>\n",
       "      <th>smoke</th>\n",
       "      <th>ap_hi_cat</th>\n",
       "      <th>ap_lo_cat</th>\n",
       "      <th>ap_lo_mod_10</th>\n",
       "      <th>bmi</th>\n",
       "      <th>bmi_cat</th>\n",
       "    </tr>\n",
       "    <tr>\n",
       "      <th>age</th>\n",
       "      <th></th>\n",
       "      <th></th>\n",
       "      <th></th>\n",
       "      <th></th>\n",
       "      <th></th>\n",
       "      <th></th>\n",
       "      <th></th>\n",
       "      <th></th>\n",
       "      <th></th>\n",
       "      <th></th>\n",
       "      <th></th>\n",
       "      <th></th>\n",
       "      <th></th>\n",
       "    </tr>\n",
       "  </thead>\n",
       "  <tbody>\n",
       "    <tr>\n",
       "      <th>30.0</th>\n",
       "      <td>41090.750000</td>\n",
       "      <td>1.250000</td>\n",
       "      <td>167.250000</td>\n",
       "      <td>67.250000</td>\n",
       "      <td>112.500000</td>\n",
       "      <td>72.500000</td>\n",
       "      <td>1.000000</td>\n",
       "      <td>0.000000</td>\n",
       "      <td>1.000000</td>\n",
       "      <td>2.000000</td>\n",
       "      <td>1.000000</td>\n",
       "      <td>23.750000</td>\n",
       "      <td>2.500000</td>\n",
       "    </tr>\n",
       "    <tr>\n",
       "      <th>39.0</th>\n",
       "      <td>49214.056235</td>\n",
       "      <td>1.413203</td>\n",
       "      <td>165.618582</td>\n",
       "      <td>73.633985</td>\n",
       "      <td>119.029340</td>\n",
       "      <td>77.674817</td>\n",
       "      <td>1.205379</td>\n",
       "      <td>0.107579</td>\n",
       "      <td>1.242054</td>\n",
       "      <td>2.009780</td>\n",
       "      <td>0.963325</td>\n",
       "      <td>26.855746</td>\n",
       "      <td>2.823961</td>\n",
       "    </tr>\n",
       "    <tr>\n",
       "      <th>40.0</th>\n",
       "      <td>48709.236296</td>\n",
       "      <td>1.361481</td>\n",
       "      <td>165.038889</td>\n",
       "      <td>71.452852</td>\n",
       "      <td>118.861111</td>\n",
       "      <td>77.990000</td>\n",
       "      <td>1.170000</td>\n",
       "      <td>0.101852</td>\n",
       "      <td>1.209259</td>\n",
       "      <td>2.001481</td>\n",
       "      <td>0.977037</td>\n",
       "      <td>26.199259</td>\n",
       "      <td>2.730741</td>\n",
       "    </tr>\n",
       "    <tr>\n",
       "      <th>41.0</th>\n",
       "      <td>50207.706266</td>\n",
       "      <td>1.369452</td>\n",
       "      <td>165.631854</td>\n",
       "      <td>72.883812</td>\n",
       "      <td>120.575718</td>\n",
       "      <td>78.647520</td>\n",
       "      <td>1.219321</td>\n",
       "      <td>0.121410</td>\n",
       "      <td>1.244125</td>\n",
       "      <td>2.011749</td>\n",
       "      <td>0.977807</td>\n",
       "      <td>26.532637</td>\n",
       "      <td>2.797650</td>\n",
       "    </tr>\n",
       "    <tr>\n",
       "      <th>42.0</th>\n",
       "      <td>50538.328887</td>\n",
       "      <td>1.392530</td>\n",
       "      <td>165.444741</td>\n",
       "      <td>72.074009</td>\n",
       "      <td>120.160442</td>\n",
       "      <td>78.607851</td>\n",
       "      <td>1.187500</td>\n",
       "      <td>0.115473</td>\n",
       "      <td>1.237043</td>\n",
       "      <td>2.007622</td>\n",
       "      <td>0.972561</td>\n",
       "      <td>26.288491</td>\n",
       "      <td>2.761814</td>\n",
       "    </tr>\n",
       "    <tr>\n",
       "      <th>43.0</th>\n",
       "      <td>49818.402899</td>\n",
       "      <td>1.375362</td>\n",
       "      <td>165.268116</td>\n",
       "      <td>73.456522</td>\n",
       "      <td>121.266667</td>\n",
       "      <td>79.911594</td>\n",
       "      <td>1.313043</td>\n",
       "      <td>0.113043</td>\n",
       "      <td>1.314493</td>\n",
       "      <td>2.008696</td>\n",
       "      <td>0.972464</td>\n",
       "      <td>26.852174</td>\n",
       "      <td>2.833333</td>\n",
       "    </tr>\n",
       "    <tr>\n",
       "      <th>44.0</th>\n",
       "      <td>49848.861121</td>\n",
       "      <td>1.385266</td>\n",
       "      <td>165.683821</td>\n",
       "      <td>73.483468</td>\n",
       "      <td>121.987663</td>\n",
       "      <td>79.848784</td>\n",
       "      <td>1.221361</td>\n",
       "      <td>0.111738</td>\n",
       "      <td>1.300317</td>\n",
       "      <td>2.011280</td>\n",
       "      <td>0.977793</td>\n",
       "      <td>26.751146</td>\n",
       "      <td>2.855834</td>\n",
       "    </tr>\n",
       "    <tr>\n",
       "      <th>45.0</th>\n",
       "      <td>48259.006605</td>\n",
       "      <td>1.384412</td>\n",
       "      <td>165.508587</td>\n",
       "      <td>74.083223</td>\n",
       "      <td>123.417437</td>\n",
       "      <td>80.961691</td>\n",
       "      <td>1.265522</td>\n",
       "      <td>0.120211</td>\n",
       "      <td>1.326288</td>\n",
       "      <td>2.014531</td>\n",
       "      <td>0.972259</td>\n",
       "      <td>27.051519</td>\n",
       "      <td>2.915456</td>\n",
       "    </tr>\n",
       "    <tr>\n",
       "      <th>46.0</th>\n",
       "      <td>49888.164805</td>\n",
       "      <td>1.397970</td>\n",
       "      <td>165.173604</td>\n",
       "      <td>73.481083</td>\n",
       "      <td>123.100169</td>\n",
       "      <td>80.118105</td>\n",
       "      <td>1.239255</td>\n",
       "      <td>0.110660</td>\n",
       "      <td>1.323181</td>\n",
       "      <td>2.007783</td>\n",
       "      <td>0.980034</td>\n",
       "      <td>26.920135</td>\n",
       "      <td>2.857530</td>\n",
       "    </tr>\n",
       "    <tr>\n",
       "      <th>47.0</th>\n",
       "      <td>51701.584881</td>\n",
       "      <td>1.370027</td>\n",
       "      <td>164.827586</td>\n",
       "      <td>74.029443</td>\n",
       "      <td>125.049072</td>\n",
       "      <td>81.546419</td>\n",
       "      <td>1.295756</td>\n",
       "      <td>0.091512</td>\n",
       "      <td>1.363395</td>\n",
       "      <td>2.011936</td>\n",
       "      <td>0.978780</td>\n",
       "      <td>27.254642</td>\n",
       "      <td>2.931034</td>\n",
       "    </tr>\n",
       "    <tr>\n",
       "      <th>48.0</th>\n",
       "      <td>50246.836255</td>\n",
       "      <td>1.394177</td>\n",
       "      <td>165.137758</td>\n",
       "      <td>74.597079</td>\n",
       "      <td>124.884471</td>\n",
       "      <td>81.039449</td>\n",
       "      <td>1.276143</td>\n",
       "      <td>0.107076</td>\n",
       "      <td>1.363807</td>\n",
       "      <td>2.010332</td>\n",
       "      <td>0.973388</td>\n",
       "      <td>27.327176</td>\n",
       "      <td>2.927990</td>\n",
       "    </tr>\n",
       "    <tr>\n",
       "      <th>49.0</th>\n",
       "      <td>49019.358829</td>\n",
       "      <td>1.365439</td>\n",
       "      <td>165.186025</td>\n",
       "      <td>73.549008</td>\n",
       "      <td>124.701605</td>\n",
       "      <td>80.743154</td>\n",
       "      <td>1.303116</td>\n",
       "      <td>0.094429</td>\n",
       "      <td>1.358829</td>\n",
       "      <td>2.009443</td>\n",
       "      <td>0.972616</td>\n",
       "      <td>26.960340</td>\n",
       "      <td>2.887630</td>\n",
       "    </tr>\n",
       "    <tr>\n",
       "      <th>50.0</th>\n",
       "      <td>49829.570723</td>\n",
       "      <td>1.328460</td>\n",
       "      <td>164.569964</td>\n",
       "      <td>73.577710</td>\n",
       "      <td>124.576799</td>\n",
       "      <td>81.012341</td>\n",
       "      <td>1.293716</td>\n",
       "      <td>0.089615</td>\n",
       "      <td>1.357889</td>\n",
       "      <td>2.009873</td>\n",
       "      <td>0.969242</td>\n",
       "      <td>27.161572</td>\n",
       "      <td>2.905829</td>\n",
       "    </tr>\n",
       "    <tr>\n",
       "      <th>51.0</th>\n",
       "      <td>50326.385015</td>\n",
       "      <td>1.316766</td>\n",
       "      <td>164.715875</td>\n",
       "      <td>74.145957</td>\n",
       "      <td>125.536350</td>\n",
       "      <td>81.795252</td>\n",
       "      <td>1.336795</td>\n",
       "      <td>0.083828</td>\n",
       "      <td>1.384273</td>\n",
       "      <td>2.016320</td>\n",
       "      <td>0.976261</td>\n",
       "      <td>27.340504</td>\n",
       "      <td>2.936944</td>\n",
       "    </tr>\n",
       "    <tr>\n",
       "      <th>52.0</th>\n",
       "      <td>50142.097492</td>\n",
       "      <td>1.331510</td>\n",
       "      <td>164.404488</td>\n",
       "      <td>74.296832</td>\n",
       "      <td>126.395059</td>\n",
       "      <td>82.076749</td>\n",
       "      <td>1.332076</td>\n",
       "      <td>0.092589</td>\n",
       "      <td>1.409014</td>\n",
       "      <td>2.016783</td>\n",
       "      <td>0.971714</td>\n",
       "      <td>27.500660</td>\n",
       "      <td>2.953611</td>\n",
       "    </tr>\n",
       "    <tr>\n",
       "      <th>53.0</th>\n",
       "      <td>51960.803127</td>\n",
       "      <td>1.325515</td>\n",
       "      <td>164.490405</td>\n",
       "      <td>74.043781</td>\n",
       "      <td>125.581379</td>\n",
       "      <td>81.764748</td>\n",
       "      <td>1.368870</td>\n",
       "      <td>0.091684</td>\n",
       "      <td>1.383795</td>\n",
       "      <td>2.015636</td>\n",
       "      <td>0.973703</td>\n",
       "      <td>27.372424</td>\n",
       "      <td>2.946695</td>\n",
       "    </tr>\n",
       "    <tr>\n",
       "      <th>54.0</th>\n",
       "      <td>49624.419339</td>\n",
       "      <td>1.333834</td>\n",
       "      <td>164.350701</td>\n",
       "      <td>74.308550</td>\n",
       "      <td>127.424850</td>\n",
       "      <td>82.275551</td>\n",
       "      <td>1.351035</td>\n",
       "      <td>0.079158</td>\n",
       "      <td>1.428023</td>\n",
       "      <td>2.012525</td>\n",
       "      <td>0.969773</td>\n",
       "      <td>27.505344</td>\n",
       "      <td>2.957582</td>\n",
       "    </tr>\n",
       "    <tr>\n",
       "      <th>55.0</th>\n",
       "      <td>50073.665554</td>\n",
       "      <td>1.329105</td>\n",
       "      <td>164.508678</td>\n",
       "      <td>74.684646</td>\n",
       "      <td>127.321095</td>\n",
       "      <td>82.252336</td>\n",
       "      <td>1.374499</td>\n",
       "      <td>0.084112</td>\n",
       "      <td>1.439920</td>\n",
       "      <td>2.014019</td>\n",
       "      <td>0.974633</td>\n",
       "      <td>27.602136</td>\n",
       "      <td>2.975968</td>\n",
       "    </tr>\n",
       "    <tr>\n",
       "      <th>56.0</th>\n",
       "      <td>50335.933676</td>\n",
       "      <td>1.319184</td>\n",
       "      <td>164.176422</td>\n",
       "      <td>74.843565</td>\n",
       "      <td>128.271763</td>\n",
       "      <td>82.668380</td>\n",
       "      <td>1.409385</td>\n",
       "      <td>0.087713</td>\n",
       "      <td>1.456806</td>\n",
       "      <td>2.015089</td>\n",
       "      <td>0.969988</td>\n",
       "      <td>27.802520</td>\n",
       "      <td>3.014591</td>\n",
       "    </tr>\n",
       "    <tr>\n",
       "      <th>57.0</th>\n",
       "      <td>50391.036501</td>\n",
       "      <td>1.328512</td>\n",
       "      <td>164.011019</td>\n",
       "      <td>74.206956</td>\n",
       "      <td>129.231405</td>\n",
       "      <td>82.619835</td>\n",
       "      <td>1.451791</td>\n",
       "      <td>0.080579</td>\n",
       "      <td>1.463499</td>\n",
       "      <td>2.015152</td>\n",
       "      <td>0.973829</td>\n",
       "      <td>27.621901</td>\n",
       "      <td>2.975207</td>\n",
       "    </tr>\n",
       "    <tr>\n",
       "      <th>58.0</th>\n",
       "      <td>49408.376008</td>\n",
       "      <td>1.350754</td>\n",
       "      <td>163.974044</td>\n",
       "      <td>74.957103</td>\n",
       "      <td>128.501403</td>\n",
       "      <td>82.935110</td>\n",
       "      <td>1.437040</td>\n",
       "      <td>0.075763</td>\n",
       "      <td>1.468783</td>\n",
       "      <td>2.016661</td>\n",
       "      <td>0.968608</td>\n",
       "      <td>27.898281</td>\n",
       "      <td>3.016485</td>\n",
       "    </tr>\n",
       "    <tr>\n",
       "      <th>59.0</th>\n",
       "      <td>50769.737269</td>\n",
       "      <td>1.309963</td>\n",
       "      <td>163.850185</td>\n",
       "      <td>75.171734</td>\n",
       "      <td>129.342435</td>\n",
       "      <td>82.900369</td>\n",
       "      <td>1.493727</td>\n",
       "      <td>0.071587</td>\n",
       "      <td>1.487823</td>\n",
       "      <td>2.016236</td>\n",
       "      <td>0.966052</td>\n",
       "      <td>28.029520</td>\n",
       "      <td>3.019188</td>\n",
       "    </tr>\n",
       "    <tr>\n",
       "      <th>60.0</th>\n",
       "      <td>50124.075938</td>\n",
       "      <td>1.311070</td>\n",
       "      <td>163.407685</td>\n",
       "      <td>74.677918</td>\n",
       "      <td>129.870631</td>\n",
       "      <td>83.035682</td>\n",
       "      <td>1.472644</td>\n",
       "      <td>0.072644</td>\n",
       "      <td>1.506313</td>\n",
       "      <td>2.011711</td>\n",
       "      <td>0.967795</td>\n",
       "      <td>27.989936</td>\n",
       "      <td>3.022690</td>\n",
       "    </tr>\n",
       "    <tr>\n",
       "      <th>61.0</th>\n",
       "      <td>50260.497133</td>\n",
       "      <td>1.335790</td>\n",
       "      <td>163.125307</td>\n",
       "      <td>75.082637</td>\n",
       "      <td>129.687961</td>\n",
       "      <td>83.217854</td>\n",
       "      <td>1.558559</td>\n",
       "      <td>0.070434</td>\n",
       "      <td>1.514333</td>\n",
       "      <td>2.018837</td>\n",
       "      <td>0.971335</td>\n",
       "      <td>28.292383</td>\n",
       "      <td>3.069615</td>\n",
       "    </tr>\n",
       "    <tr>\n",
       "      <th>62.0</th>\n",
       "      <td>50120.517575</td>\n",
       "      <td>1.396587</td>\n",
       "      <td>163.601885</td>\n",
       "      <td>74.779272</td>\n",
       "      <td>131.719817</td>\n",
       "      <td>83.821701</td>\n",
       "      <td>1.499745</td>\n",
       "      <td>0.086602</td>\n",
       "      <td>1.568518</td>\n",
       "      <td>2.015792</td>\n",
       "      <td>0.970199</td>\n",
       "      <td>27.971982</td>\n",
       "      <td>3.027764</td>\n",
       "    </tr>\n",
       "    <tr>\n",
       "      <th>63.0</th>\n",
       "      <td>48183.734252</td>\n",
       "      <td>1.362205</td>\n",
       "      <td>163.466535</td>\n",
       "      <td>74.840551</td>\n",
       "      <td>131.519685</td>\n",
       "      <td>83.668307</td>\n",
       "      <td>1.582677</td>\n",
       "      <td>0.060039</td>\n",
       "      <td>1.573819</td>\n",
       "      <td>2.019685</td>\n",
       "      <td>0.966535</td>\n",
       "      <td>28.058071</td>\n",
       "      <td>3.068898</td>\n",
       "    </tr>\n",
       "    <tr>\n",
       "      <th>64.0</th>\n",
       "      <td>50249.819643</td>\n",
       "      <td>1.357653</td>\n",
       "      <td>163.133418</td>\n",
       "      <td>75.412500</td>\n",
       "      <td>132.705357</td>\n",
       "      <td>84.026786</td>\n",
       "      <td>1.546429</td>\n",
       "      <td>0.062245</td>\n",
       "      <td>1.595663</td>\n",
       "      <td>2.018878</td>\n",
       "      <td>0.971684</td>\n",
       "      <td>28.377296</td>\n",
       "      <td>3.101276</td>\n",
       "    </tr>\n",
       "    <tr>\n",
       "      <th>65.0</th>\n",
       "      <td>49223.758523</td>\n",
       "      <td>1.406250</td>\n",
       "      <td>164.625000</td>\n",
       "      <td>73.512784</td>\n",
       "      <td>128.954545</td>\n",
       "      <td>83.088068</td>\n",
       "      <td>1.309659</td>\n",
       "      <td>0.062500</td>\n",
       "      <td>1.460227</td>\n",
       "      <td>2.014205</td>\n",
       "      <td>0.977273</td>\n",
       "      <td>27.116477</td>\n",
       "      <td>2.889205</td>\n",
       "    </tr>\n",
       "  </tbody>\n",
       "</table>\n",
       "</div>"
      ],
      "text/plain": [
       "                id    gender      height     weight       ap_hi      ap_lo  \\\n",
       "age                                                                          \n",
       "30.0  41090.750000  1.250000  167.250000  67.250000  112.500000  72.500000   \n",
       "39.0  49214.056235  1.413203  165.618582  73.633985  119.029340  77.674817   \n",
       "40.0  48709.236296  1.361481  165.038889  71.452852  118.861111  77.990000   \n",
       "41.0  50207.706266  1.369452  165.631854  72.883812  120.575718  78.647520   \n",
       "42.0  50538.328887  1.392530  165.444741  72.074009  120.160442  78.607851   \n",
       "43.0  49818.402899  1.375362  165.268116  73.456522  121.266667  79.911594   \n",
       "44.0  49848.861121  1.385266  165.683821  73.483468  121.987663  79.848784   \n",
       "45.0  48259.006605  1.384412  165.508587  74.083223  123.417437  80.961691   \n",
       "46.0  49888.164805  1.397970  165.173604  73.481083  123.100169  80.118105   \n",
       "47.0  51701.584881  1.370027  164.827586  74.029443  125.049072  81.546419   \n",
       "48.0  50246.836255  1.394177  165.137758  74.597079  124.884471  81.039449   \n",
       "49.0  49019.358829  1.365439  165.186025  73.549008  124.701605  80.743154   \n",
       "50.0  49829.570723  1.328460  164.569964  73.577710  124.576799  81.012341   \n",
       "51.0  50326.385015  1.316766  164.715875  74.145957  125.536350  81.795252   \n",
       "52.0  50142.097492  1.331510  164.404488  74.296832  126.395059  82.076749   \n",
       "53.0  51960.803127  1.325515  164.490405  74.043781  125.581379  81.764748   \n",
       "54.0  49624.419339  1.333834  164.350701  74.308550  127.424850  82.275551   \n",
       "55.0  50073.665554  1.329105  164.508678  74.684646  127.321095  82.252336   \n",
       "56.0  50335.933676  1.319184  164.176422  74.843565  128.271763  82.668380   \n",
       "57.0  50391.036501  1.328512  164.011019  74.206956  129.231405  82.619835   \n",
       "58.0  49408.376008  1.350754  163.974044  74.957103  128.501403  82.935110   \n",
       "59.0  50769.737269  1.309963  163.850185  75.171734  129.342435  82.900369   \n",
       "60.0  50124.075938  1.311070  163.407685  74.677918  129.870631  83.035682   \n",
       "61.0  50260.497133  1.335790  163.125307  75.082637  129.687961  83.217854   \n",
       "62.0  50120.517575  1.396587  163.601885  74.779272  131.719817  83.821701   \n",
       "63.0  48183.734252  1.362205  163.466535  74.840551  131.519685  83.668307   \n",
       "64.0  50249.819643  1.357653  163.133418  75.412500  132.705357  84.026786   \n",
       "65.0  49223.758523  1.406250  164.625000  73.512784  128.954545  83.088068   \n",
       "\n",
       "      cholesterol     smoke  ap_hi_cat  ap_lo_cat  ap_lo_mod_10        bmi  \\\n",
       "age                                                                          \n",
       "30.0     1.000000  0.000000   1.000000   2.000000      1.000000  23.750000   \n",
       "39.0     1.205379  0.107579   1.242054   2.009780      0.963325  26.855746   \n",
       "40.0     1.170000  0.101852   1.209259   2.001481      0.977037  26.199259   \n",
       "41.0     1.219321  0.121410   1.244125   2.011749      0.977807  26.532637   \n",
       "42.0     1.187500  0.115473   1.237043   2.007622      0.972561  26.288491   \n",
       "43.0     1.313043  0.113043   1.314493   2.008696      0.972464  26.852174   \n",
       "44.0     1.221361  0.111738   1.300317   2.011280      0.977793  26.751146   \n",
       "45.0     1.265522  0.120211   1.326288   2.014531      0.972259  27.051519   \n",
       "46.0     1.239255  0.110660   1.323181   2.007783      0.980034  26.920135   \n",
       "47.0     1.295756  0.091512   1.363395   2.011936      0.978780  27.254642   \n",
       "48.0     1.276143  0.107076   1.363807   2.010332      0.973388  27.327176   \n",
       "49.0     1.303116  0.094429   1.358829   2.009443      0.972616  26.960340   \n",
       "50.0     1.293716  0.089615   1.357889   2.009873      0.969242  27.161572   \n",
       "51.0     1.336795  0.083828   1.384273   2.016320      0.976261  27.340504   \n",
       "52.0     1.332076  0.092589   1.409014   2.016783      0.971714  27.500660   \n",
       "53.0     1.368870  0.091684   1.383795   2.015636      0.973703  27.372424   \n",
       "54.0     1.351035  0.079158   1.428023   2.012525      0.969773  27.505344   \n",
       "55.0     1.374499  0.084112   1.439920   2.014019      0.974633  27.602136   \n",
       "56.0     1.409385  0.087713   1.456806   2.015089      0.969988  27.802520   \n",
       "57.0     1.451791  0.080579   1.463499   2.015152      0.973829  27.621901   \n",
       "58.0     1.437040  0.075763   1.468783   2.016661      0.968608  27.898281   \n",
       "59.0     1.493727  0.071587   1.487823   2.016236      0.966052  28.029520   \n",
       "60.0     1.472644  0.072644   1.506313   2.011711      0.967795  27.989936   \n",
       "61.0     1.558559  0.070434   1.514333   2.018837      0.971335  28.292383   \n",
       "62.0     1.499745  0.086602   1.568518   2.015792      0.970199  27.971982   \n",
       "63.0     1.582677  0.060039   1.573819   2.019685      0.966535  28.058071   \n",
       "64.0     1.546429  0.062245   1.595663   2.018878      0.971684  28.377296   \n",
       "65.0     1.309659  0.062500   1.460227   2.014205      0.977273  27.116477   \n",
       "\n",
       "       bmi_cat  \n",
       "age             \n",
       "30.0  2.500000  \n",
       "39.0  2.823961  \n",
       "40.0  2.730741  \n",
       "41.0  2.797650  \n",
       "42.0  2.761814  \n",
       "43.0  2.833333  \n",
       "44.0  2.855834  \n",
       "45.0  2.915456  \n",
       "46.0  2.857530  \n",
       "47.0  2.931034  \n",
       "48.0  2.927990  \n",
       "49.0  2.887630  \n",
       "50.0  2.905829  \n",
       "51.0  2.936944  \n",
       "52.0  2.953611  \n",
       "53.0  2.946695  \n",
       "54.0  2.957582  \n",
       "55.0  2.975968  \n",
       "56.0  3.014591  \n",
       "57.0  2.975207  \n",
       "58.0  3.016485  \n",
       "59.0  3.019188  \n",
       "60.0  3.022690  \n",
       "61.0  3.069615  \n",
       "62.0  3.027764  \n",
       "63.0  3.068898  \n",
       "64.0  3.101276  \n",
       "65.0  2.889205  "
      ]
     },
     "execution_count": 174,
     "metadata": {},
     "output_type": "execute_result"
    }
   ],
   "source": [
    "temp"
   ]
  },
  {
   "cell_type": "code",
   "execution_count": 175,
   "metadata": {},
   "outputs": [
    {
     "data": {
      "text/plain": [
       "1.2300086122210974"
      ]
     },
     "execution_count": 175,
     "metadata": {},
     "output_type": "execute_result"
    }
   ],
   "source": [
    "sm_avg= np.mean(temp[temp.index<=50]).cholesterol.tolist()\n",
    "sm_avg"
   ]
  },
  {
   "cell_type": "code",
   "execution_count": 176,
   "metadata": {},
   "outputs": [
    {
     "data": {
      "text/plain": [
       "1.4349953954722983"
      ]
     },
     "execution_count": 176,
     "metadata": {},
     "output_type": "execute_result"
    }
   ],
   "source": [
    "bg_avg= np.mean(temp[temp.index>50]).cholesterol.tolist()\n",
    "bg_avg"
   ]
  },
  {
   "cell_type": "code",
   "execution_count": 177,
   "metadata": {},
   "outputs": [
    {
     "data": {
      "text/plain": [
       "0.14284839094116664"
      ]
     },
     "execution_count": 177,
     "metadata": {},
     "output_type": "execute_result"
    }
   ],
   "source": [
    "(bg_avg-sm_avg)/bg_avg"
   ]
  },
  {
   "cell_type": "code",
   "execution_count": 178,
   "metadata": {},
   "outputs": [
    {
     "ename": "NameError",
     "evalue": "name 'cardio_base' is not defined",
     "output_type": "error",
     "traceback": [
      "\u001b[1;31m---------------------------------------------------------------------------\u001b[0m",
      "\u001b[1;31mNameError\u001b[0m                                 Traceback (most recent call last)",
      "\u001b[1;32m<ipython-input-178-11175623a43f>\u001b[0m in \u001b[0;36m<module>\u001b[1;34m\u001b[0m\n\u001b[1;32m----> 1\u001b[1;33m \u001b[0mtemp\u001b[0m \u001b[1;33m=\u001b[0m \u001b[0mcardio_base\u001b[0m\u001b[1;33m.\u001b[0m\u001b[0mgroupby\u001b[0m\u001b[1;33m(\u001b[0m\u001b[1;34m\"gender\"\u001b[0m\u001b[1;33m)\u001b[0m\u001b[1;33m.\u001b[0m\u001b[0mmean\u001b[0m\u001b[1;33m(\u001b[0m\u001b[1;33m)\u001b[0m\u001b[1;33m\u001b[0m\u001b[1;33m\u001b[0m\u001b[0m\n\u001b[0m\u001b[0;32m      2\u001b[0m \u001b[0mmx\u001b[0m \u001b[1;33m=\u001b[0m \u001b[0mtemp\u001b[0m\u001b[1;33m[\u001b[0m\u001b[0mtemp\u001b[0m\u001b[1;33m.\u001b[0m\u001b[0mindex\u001b[0m\u001b[1;33m==\u001b[0m\u001b[1;36m2\u001b[0m\u001b[1;33m]\u001b[0m\u001b[1;33m.\u001b[0m\u001b[0msmoke\u001b[0m\u001b[1;33m.\u001b[0m\u001b[0mtolist\u001b[0m\u001b[1;33m(\u001b[0m\u001b[1;33m)\u001b[0m\u001b[1;33m[\u001b[0m\u001b[1;36m0\u001b[0m\u001b[1;33m]\u001b[0m\u001b[1;33m\u001b[0m\u001b[1;33m\u001b[0m\u001b[0m\n\u001b[0;32m      3\u001b[0m \u001b[0mmn\u001b[0m \u001b[1;33m=\u001b[0m \u001b[0mtemp\u001b[0m\u001b[1;33m[\u001b[0m\u001b[0mtemp\u001b[0m\u001b[1;33m.\u001b[0m\u001b[0mindex\u001b[0m\u001b[1;33m==\u001b[0m\u001b[1;36m1\u001b[0m\u001b[1;33m]\u001b[0m\u001b[1;33m.\u001b[0m\u001b[0msmoke\u001b[0m\u001b[1;33m.\u001b[0m\u001b[0mtolist\u001b[0m\u001b[1;33m(\u001b[0m\u001b[1;33m)\u001b[0m\u001b[1;33m[\u001b[0m\u001b[1;36m0\u001b[0m\u001b[1;33m]\u001b[0m\u001b[1;33m\u001b[0m\u001b[1;33m\u001b[0m\u001b[0m\n\u001b[0;32m      4\u001b[0m \u001b[0mmx\u001b[0m\u001b[1;33m/\u001b[0m\u001b[0mmn\u001b[0m\u001b[1;33m\u001b[0m\u001b[1;33m\u001b[0m\u001b[0m\n",
      "\u001b[1;31mNameError\u001b[0m: name 'cardio_base' is not defined"
     ]
    }
   ],
   "source": [
    "temp = cardio_base.groupby(\"gender\").mean()\n",
    "mx = temp[temp.index==2].smoke.tolist()[0]\n",
    "mn = temp[temp.index==1].smoke.tolist()[0]\n",
    "mx/mn                                              "
   ]
  }
 ],
 "metadata": {
  "interpreter": {
   "hash": "41cf5cb26cf25c3c823c26a8ecec09169a44969db2a9b7b77bfd9844d1e2ccd7"
  },
  "kernelspec": {
   "display_name": "Python 3.8.8 ('tf-gpu-cuda11')",
   "language": "python",
   "name": "python3"
  },
  "language_info": {
   "codemirror_mode": {
    "name": "ipython",
    "version": 3
   },
   "file_extension": ".py",
   "mimetype": "text/x-python",
   "name": "python",
   "nbconvert_exporter": "python",
   "pygments_lexer": "ipython3",
   "version": "3.8.8"
  },
  "orig_nbformat": 4
 },
 "nbformat": 4,
 "nbformat_minor": 2
}
