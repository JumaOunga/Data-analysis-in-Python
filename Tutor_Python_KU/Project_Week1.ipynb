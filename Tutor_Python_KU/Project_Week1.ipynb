{
 "cells": [
  {
   "cell_type": "markdown",
   "metadata": {},
   "source": [
    "Project Week1"
   ]
  },
  {
   "cell_type": "markdown",
   "metadata": {},
   "source": [
    "Question1:\n",
    "\n",
    "Write a program to find the data types of the following variables(you can use a function if you comfortable with it):\n",
    "\n"
   ]
  },
  {
   "cell_type": "code",
   "execution_count": 71,
   "metadata": {},
   "outputs": [],
   "source": [
    "x=10\n",
    "y=57.86\n",
    "S=\"Welcome\"\n",
    "Values=['23','74','95']\n",
    "fruits=('Tomatoes','Oranges','Pineapples')\n",
    "Names={'Juma':74,'Joy':65,'Rebbecca':56}\n",
    "X=True"
   ]
  },
  {
   "cell_type": "code",
   "execution_count": 72,
   "metadata": {},
   "outputs": [],
   "source": [
    "def convert_type(data_type):\n",
    "    print(type(data_type))"
   ]
  },
  {
   "cell_type": "code",
   "execution_count": 73,
   "metadata": {},
   "outputs": [
    {
     "name": "stdout",
     "output_type": "stream",
     "text": [
      "<class 'bool'>\n",
      "<class 'int'>\n",
      "<class 'str'>\n",
      "<class 'list'>\n",
      "<class 'tuple'>\n",
      "<class 'dict'>\n",
      "<class 'float'>\n"
     ]
    }
   ],
   "source": [
    "convert_type(X)\n",
    "convert_type(x)\n",
    "convert_type(S)\n",
    "convert_type(Values)\n",
    "convert_type(fruits)\n",
    "convert_type(Names)\n",
    "convert_type(y)"
   ]
  },
  {
   "cell_type": "markdown",
   "metadata": {},
   "source": [
    "Question2:\n",
    "    \n",
    "Write a program to prompt a user to enter a mark scored by a student and the program should return the Grade scored\n",
    "(Use if, elif and else statements,Grades are A,B,C,D,E)"
   ]
  },
  {
   "cell_type": "code",
   "execution_count": 74,
   "metadata": {},
   "outputs": [
    {
     "name": "stdout",
     "output_type": "stream",
     "text": [
      "E\n"
     ]
    }
   ],
   "source": [
    "marks=int(input('Enter Your Marks'))\n",
    "if marks<40:\n",
    "    print(\"A\")\n",
    "elif marks<50:\n",
    "    print(\"B\")\n",
    "elif marks<60:\n",
    "    print(\"C\")\n",
    "elif marks<70:\n",
    "    print(\"D\")\n",
    "else:\n",
    "    print(\"E\")"
   ]
  },
  {
   "cell_type": "markdown",
   "metadata": {},
   "source": [
    "Question3:\n",
    "    \n",
    "Write a program to print all values of the following variables (again you can use a function):"
   ]
  },
  {
   "cell_type": "code",
   "execution_count": 75,
   "metadata": {},
   "outputs": [],
   "source": [
    "Word='Programming'\n",
    "Names=['Juma','Joy','Erick','Dennis','James']\n",
    "marks=[35,98,64,26,84,68,90,74]"
   ]
  },
  {
   "cell_type": "code",
   "execution_count": 76,
   "metadata": {},
   "outputs": [
    {
     "name": "stdout",
     "output_type": "stream",
     "text": [
      "P\n",
      "r\n",
      "o\n",
      "g\n",
      "r\n",
      "a\n",
      "m\n",
      "m\n",
      "i\n",
      "n\n",
      "g\n",
      "Juma\n",
      "Joy\n",
      "Erick\n",
      "Dennis\n",
      "James\n",
      "35\n",
      "98\n",
      "64\n",
      "26\n",
      "84\n",
      "68\n",
      "90\n",
      "74\n"
     ]
    }
   ],
   "source": [
    "def values_func(value):\n",
    "    for i in value:\n",
    "        print(i)\n",
    "values_func(Word )\n",
    "values_func(Names)\n",
    "values_func(marks)"
   ]
  },
  {
   "cell_type": "markdown",
   "metadata": {},
   "source": [
    "Question4: \n",
    "    \n",
    "Write a program to create a list named vegetables prices with values 45,86,89,24,62,96,24,64,66,94. Then print those prices which are above 50"
   ]
  },
  {
   "cell_type": "code",
   "execution_count": 77,
   "metadata": {},
   "outputs": [
    {
     "name": "stdout",
     "output_type": "stream",
     "text": [
      "86\n",
      "89\n",
      "62\n",
      "96\n",
      "64\n",
      "66\n",
      "94\n"
     ]
    }
   ],
   "source": [
    "Vegetables=[45,86,89,24,62,96,24,64,66,94]\n",
    "for i in Vegetables:\n",
    "    if i>=50:\n",
    "        print(i)"
   ]
  },
  {
   "cell_type": "markdown",
   "metadata": {},
   "source": [
    "Question5:\n",
    "    \n",
    "Create a dictionary named Item_Dict, with keys; fruits, number_fruits, prices, and values as ['pineapples','oranges','apples'],\n",
    "[34,67,54], [76,98,96]"
   ]
  },
  {
   "cell_type": "code",
   "execution_count": 78,
   "metadata": {},
   "outputs": [
    {
     "name": "stdout",
     "output_type": "stream",
     "text": [
      "{'fruits': ['pineapples', 'oranges', 'apples'], 'number_fruits': [34, 67, 54], 'prices': [76, 98, 96]}\n"
     ]
    }
   ],
   "source": [
    "Item_dict={'fruits':['pineapples','oranges','apples'],'number_fruits':[34,67,54],'prices':[76,98,96]}\n",
    "print(Item_dict)"
   ]
  },
  {
   "cell_type": "markdown",
   "metadata": {},
   "source": [
    "Question6:\n",
    "    \n",
    "write a function that will pass a list and print all elements of a list(create any list to confirm if your function works.)"
   ]
  },
  {
   "cell_type": "code",
   "execution_count": 79,
   "metadata": {},
   "outputs": [
    {
     "name": "stdout",
     "output_type": "stream",
     "text": [
      "45\n",
      "86\n",
      "89\n",
      "24\n",
      "62\n",
      "96\n",
      "24\n",
      "64\n",
      "66\n",
      "94\n"
     ]
    }
   ],
   "source": [
    "def list_func(list):\n",
    "    for i in list:\n",
    "        print(i)\n",
    "list_func(Vegetables)"
   ]
  },
  {
   "cell_type": "markdown",
   "metadata": {},
   "source": [
    "Question7:\n",
    "    \n",
    "Write a program to remove the empty spaces from start and end of the following variables: (you can use a function)"
   ]
  },
  {
   "cell_type": "code",
   "execution_count": 80,
   "metadata": {},
   "outputs": [],
   "source": [
    "String=\"  Hello \"\n",
    "Fruit=\" Apples  \"\n",
    "value=' 686844875  '"
   ]
  },
  {
   "cell_type": "code",
   "execution_count": 81,
   "metadata": {},
   "outputs": [
    {
     "name": "stdout",
     "output_type": "stream",
     "text": [
      "Hello\n",
      "Apples\n",
      "686844875\n"
     ]
    }
   ],
   "source": [
    "def empty_func(data):\n",
    "    print(data.strip())\n",
    "empty_func(String)\n",
    "empty_func(Fruit)\n",
    "empty_func(value)"
   ]
  },
  {
   "cell_type": "markdown",
   "metadata": {},
   "source": [
    "Question8:\n",
    "    \n",
    "    \n",
    "Given two integer numbers return their product only if the product is equal to or lower than 1000, else return their sum."
   ]
  },
  {
   "cell_type": "code",
   "execution_count": 82,
   "metadata": {},
   "outputs": [
    {
     "data": {
      "text/plain": [
       "500"
      ]
     },
     "execution_count": 82,
     "metadata": {},
     "output_type": "execute_result"
    }
   ],
   "source": [
    "def product_sum_func(a,b):\n",
    "    if (a*b)<=1000:\n",
    "        return (a*b) \n",
    "    else:\n",
    "        return (a+b)\n",
    "product_sum_func(10, 50)"
   ]
  },
  {
   "cell_type": "code",
   "execution_count": null,
   "metadata": {},
   "outputs": [],
   "source": []
  },
  {
   "cell_type": "markdown",
   "metadata": {},
   "source": [
    "Question9:\n",
    "    \n",
    "Write a Python program that prints all the numbers from 0 to 6 except 3 and 6.\n",
    "Note: Use 'continue' statement.\n"
   ]
  },
  {
   "cell_type": "code",
   "execution_count": 83,
   "metadata": {},
   "outputs": [
    {
     "name": "stdout",
     "output_type": "stream",
     "text": [
      "0\n",
      "1\n",
      "2\n",
      "4\n",
      "5\n"
     ]
    }
   ],
   "source": [
    "for i in range(7):\n",
    "    if i==3:\n",
    "        continue\n",
    "    elif i==6:\n",
    "        continue\n",
    "    print(i)"
   ]
  },
  {
   "cell_type": "markdown",
   "metadata": {},
   "source": [
    "Question10:\n",
    "Check if the first and last number of a list is the same\n",
    "numbers_list = [10, 20, 30, 40, 10,90,80,11,28,10]\n",
    "\n"
   ]
  },
  {
   "cell_type": "code",
   "execution_count": 84,
   "metadata": {},
   "outputs": [
    {
     "name": "stdout",
     "output_type": "stream",
     "text": [
      "The last and first numbers are same\n"
     ]
    }
   ],
   "source": [
    "numbers_list = [10, 20, 30, 40, 10,90,80,11,28,10]\n",
    "if numbers_list[0]==numbers_list[-1]:\n",
    "    print('The last and first numbers are same')\n",
    "else:\n",
    "    print(\"The last and first numbers are different\")"
   ]
  },
  {
   "cell_type": "markdown",
   "metadata": {},
   "source": [
    "Question11:\n",
    "Find the lenght of the following variables and output only with lenght is more or equal to 5"
   ]
  },
  {
   "cell_type": "code",
   "execution_count": 93,
   "metadata": {},
   "outputs": [
    {
     "name": "stdout",
     "output_type": "stream",
     "text": [
      "values lenght is less than 5\n",
      "values lenght is less than 5\n",
      "Welcome\n",
      "values lenght is less than 5\n"
     ]
    }
   ],
   "source": [
    "\n",
    "S=\"Welcome\"\n",
    "Values=['23','74','95']\n",
    "fruits=('Tomatoes','Oranges','Pineapples')\n",
    "Names={'Juma':74,'Joy':65,'Rebbecca':56}\n",
    "def lenght_func(value):\n",
    "    leght=len(value)\n",
    "    if leght>=5:\n",
    "        print(value)\n",
    "    else:\n",
    "        print(\"values lenght is less than 5\")\n",
    "\n",
    "lenght_func(Names) \n",
    "lenght_func(fruits) \n",
    "lenght_func(S) \n",
    "lenght_func(Values) \n",
    "\n",
    "        \n"
   ]
  },
  {
   "cell_type": "markdown",
   "metadata": {},
   "source": [
    "Question12:\n",
    "\n",
    "Use split function, to find the number of sentences in the following passage"
   ]
  },
  {
   "cell_type": "code",
   "execution_count": 86,
   "metadata": {},
   "outputs": [],
   "source": [
    "passage='''Today, Python is very high in demand and all the major companies are looking for great Python Programmers to develop websites, software components, and applications or to work with Data Science, AI, and ML technologies. When we are developing this tutorial in 2022, there is a high shortage of Python Programmers where as market demands more number of Python Programmers due to it's application in Machine Learning, Artificial Intelligence etc.\n",
    "\n",
    "Today a Python Programmer with 3-5 years of experience is asking for around $150,000 annual package and this is the most demanding programming language in America. Though it can vary depending on the location of the Job. It's impossible to list all of the companies using Python, to name a few big companies are:'''"
   ]
  },
  {
   "cell_type": "code",
   "execution_count": 94,
   "metadata": {},
   "outputs": [
    {
     "name": "stdout",
     "output_type": "stream",
     "text": [
      "Today, Python is very high in demand and all the major companies are looking for great Python Programmers to develop websites, software components, and applications or to work with Data Science, AI, and ML technologies\n",
      "218\n",
      " When we are developing this tutorial in 2022, there is a high shortage of Python Programmers where as market demands more number of Python Programmers due to it's application in Machine Learning, Artificial Intelligence etc\n",
      "224\n",
      "\n",
      "\n",
      "Today a Python Programmer with 3-5 years of experience is asking for around $150,000 annual package and this is the most demanding programming language in America\n",
      "164\n",
      " Though it can vary depending on the location of the Job\n",
      "56\n",
      " It's impossible to list all of the companies using Python, to name a few big companies are:\n",
      "92\n"
     ]
    }
   ],
   "source": [
    "def split_func(sentence):\n",
    "    list=sentence.split('.')\n",
    "    for i in list:\n",
    "        print(i)\n",
    "        \n",
    "split_func(passage)\n",
    "\n",
    "    "
   ]
  },
  {
   "cell_type": "markdown",
   "metadata": {},
   "source": [
    "The End"
   ]
  }
 ],
 "metadata": {
  "interpreter": {
   "hash": "f4c5ce1d65072fb9d87b958c57f3039d6fbd77e0945b0c8689c94b67c9d67e3e"
  },
  "kernelspec": {
   "display_name": "Python 3.8.13 ('base')",
   "language": "python",
   "name": "python3"
  },
  "language_info": {
   "codemirror_mode": {
    "name": "ipython",
    "version": 3
   },
   "file_extension": ".py",
   "mimetype": "text/x-python",
   "name": "python",
   "nbconvert_exporter": "python",
   "pygments_lexer": "ipython3",
   "version": "3.8.13"
  },
  "orig_nbformat": 4
 },
 "nbformat": 4,
 "nbformat_minor": 2
}
